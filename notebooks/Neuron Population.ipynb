{
 "cells": [
  {
   "cell_type": "markdown",
   "metadata": {},
   "source": [
    "## Packages"
   ]
  },
  {
   "cell_type": "code",
   "execution_count": null,
   "metadata": {},
   "outputs": [],
   "source": [
    "import matplotlib.pyplot as plt\n",
    "import numpy as np\n",
    "import random\n",
    "import math\n",
    "from collections import namedtuple\n",
    "%matplotlib inline"
   ]
  },
  {
   "cell_type": "code",
   "execution_count": null,
   "metadata": {},
   "outputs": [],
   "source": [
    "# Remove this if you want to test neural activities. this is for reporducibility purpose\n",
    "np.random.seed(19680801)"
   ]
  },
  {
   "cell_type": "markdown",
   "metadata": {},
   "source": [
    "#### Optimizations for Matplotlib"
   ]
  },
  {
   "cell_type": "code",
   "execution_count": null,
   "metadata": {},
   "outputs": [],
   "source": [
    "import matplotlib as mpl\n",
    "import matplotlib.style as mplstyle\n",
    "mpl.rcParams['path.simplify'] = True\n",
    "mpl.rcParams['path.simplify_threshold'] = 1.0\n",
    "mpl.rcParams['agg.path.chunksize'] = 10000\n",
    "mplstyle.use('fast')"
   ]
  },
  {
   "cell_type": "markdown",
   "metadata": {},
   "source": [
    "### Leaky Integrate & Fire Model + Optimization\n",
    "\n",
    "##### Neuron Dynamic: $\\tau.\\frac{du}{dt} = -(u - u_{rest}) + R.I(t)$\n"
   ]
  },
  {
   "cell_type": "code",
   "execution_count": null,
   "metadata": {},
   "outputs": [],
   "source": [
    "class LIF:\n",
    "    __slots__ = ['dt__τ', 'θ', 'R', 'u_rest', 'u', 'input',  'spike_trace', 'isi', 'posts']\n",
    " \n",
    "    def __init__(self, config: namedtuple):\n",
    "        self.θ = config.threshold\n",
    "        self.R = config.resistor\n",
    "        self.u_rest = config.uRest\n",
    "        self.dt__τ = config.dt / config.tau\n",
    "        self.isi = int(config.isInhibitory)\n",
    "        self.u = self.u_rest\n",
    "        self.input = 0\n",
    "        self.spike_trace = []\n",
    "        self.posts = []\n",
    "        \n",
    "    def integrate(self, I, t):\n",
    "        self.u += (self.u_rest - self.u + self.R * I) * (self.dt__τ)\n",
    "        \n",
    "        if self.u >= self.θ:\n",
    "            self.u = self.u_rest\n",
    "            self.spike_trace.append(t)\n",
    "            \n",
    "            # self.potential_list.append(self.θ)\n",
    "            # self.potential_list.append(self.u)\n",
    "            \n",
    "            # update entry input for post synaptic neurons\n",
    "            for synapse in self.posts:\n",
    "                synapse.neuron.input += pow(-1,self.isi) * synapse.w * (self.θ - self.u_rest)\n",
    "        \n",
    "        self.u += self.input\n",
    "        return int(t in self.spike_trace[-1:]) # if neuron has just spiked in time t return 1 otherwise 0       "
   ]
  },
  {
   "cell_type": "markdown",
   "metadata": {},
   "source": [
    "### Neuron Populations\n",
    "\n",
    "\n",
    "$\\Delta t$ is a small time interval\n",
    "\n",
    "##### Population Activity $A(t)$\n",
    "$n_{act}(t, t + \\Delta t)$ return number of spikes for population\n",
    "\n",
    "$A(t) = \\lim\\limits_{\\Delta t \\to 0} \\frac{n_{act}(t, t + \\Delta t)}{\\Delta t * N}$ in discrit mathematic we approximate to $\\frac{\\sum\\limits_{j=1}^N \\sum\\limits_{f} \\delta (t - t^f)}{N}$\n"
   ]
  },
  {
   "cell_type": "code",
   "execution_count": null,
   "metadata": {},
   "outputs": [],
   "source": [
    "class Population:\n",
    "    def __init__(self, conf: namedtuple):\n",
    "        self.size = conf.size\n",
    "        \n",
    "        # inhibitory neurons\n",
    "        isi_size = int((1 - conf.splitSize) * self.size)\n",
    "        self.neurons = [conf.neuron(conf.isiConfig) for _ in range(isi_size)]\n",
    "       \n",
    "        # exicitory neurons\n",
    "        self.neurons.extend(\n",
    "            [conf.neuron(conf.iseConfig) for _ in range(self.size - isi_size)]\n",
    "        )\n",
    "        \n",
    "        self.α = conf.traceAlpha\n",
    "        self.activities = []\n",
    "        \n",
    "    def activate(self, I, t):\n",
    "        # count of spikes for all neurons with a generator        \n",
    "        n_act = sum((neuron.integrate(I, t) for neuron in self.neurons))\n",
    "        self.activities.append((t, n_act / self.size))\n",
    "    \n",
    "    def reset_inputs(self):\n",
    "        for neuron in self.neurons:\n",
    "            neuron.input = min(0, (1 - self.α) * neuron.input)\n",
    "    \n",
    "    def get_detailed_spikes(self):\n",
    "        return np.array([\n",
    "            [i, tf] for (i, neuron) in enumerate(self.neurons) for tf in neuron.spike_trace\n",
    "        ])\n"
   ]
  },
  {
   "cell_type": "markdown",
   "metadata": {},
   "source": [
    "#### Configuration (namedtuple)\n",
    "\n",
    "lif:\n",
    "+ tau : $\\tau$\n",
    "+ resistor: $R$\n",
    "+ threshold: $\\theta$\n",
    "+ uRest: $u_{rest}$\n",
    "+ dt: small interval of time to make dynamic equeation discrete\n",
    "+ isInhibitory: falg showing a neuron is inhibitory or not \n",
    "\n",
    "synapse:\n",
    "+ neuron: reference to post synaptic neuron (it can be from other populations)\n",
    "+ w: connection weight\n",
    "\n",
    "population:\n",
    "+ size: size of population\n",
    "+ splitSize: $pop = [(1-splitSize) * size] * neurons^{inhibitory} \\cup [splitSize * size] * neurons^{excitatory}$\n",
    "+ neuron: neuron model [LIF, ELIF, AELIF, ...]\n",
    "+ isiConfig: configuration for inhibitory neurons \n",
    "+ iseConfig: configuration for excitatory neurons \n",
    "+ traceAlpha: $\\alpha$ used in inputs reseting phase "
   ]
  },
  {
   "cell_type": "code",
   "execution_count": null,
   "metadata": {},
   "outputs": [],
   "source": [
    "CONFIGS = {\n",
    "    # neurons\n",
    "    \"lif\": namedtuple('LIFConfig', 'tau resistor threshold uRest dt isInhibitory'),\n",
    "    # connections\n",
    "    \"synapse\": namedtuple('SynapseConfig', 'neuron w'),\n",
    "    \"connection\": namedtuple('ConnectionTypeConfig', 'mu sigma coupling_probability'),\n",
    "    # population\n",
    "    \"population\": namedtuple('PopulationParams', 'size splitSize neuron isiConfig iseConfig traceAlpha'),\n",
    "}"
   ]
  },
  {
   "cell_type": "markdown",
   "metadata": {},
   "source": [
    "### Connectivities\n",
    "\n",
    "```py\n",
    "connect = connectivities[strategy]\n",
    "connect(preSynapticPopulation, postSynapticPopulation, config:ConnectionTypeConfig)\n",
    "```"
   ]
  },
  {
   "cell_type": "code",
   "execution_count": null,
   "metadata": {},
   "outputs": [],
   "source": [
    "Synapse = CONFIGS['synapse']\n",
    "\n",
    "def full_connectivity(pre_neurons, post_neurons, config):\n",
    "    μ, σ = config.mu, config.sigma    \n",
    "    normal = np.random.normal\n",
    "\n",
    "    for pre in pre_neurons:\n",
    "        for post in post_neurons:\n",
    "            pre.posts.append(Synapse(post, normal(μ, σ)))\n",
    "\n",
    "            \n",
    "def fixed_coupling_probability_connectivity(pre_neurons, post_neurons, config):\n",
    "        C_pre_size = int(config.coupling_probability * len(pre_neurons))\n",
    "        C_post_size = int(config.coupling_probability * len(post_neurons))\n",
    "\n",
    "        μ, σ = config.mu, config.sigma    \n",
    "        normal = np.random.normal\n",
    "\n",
    "        for pre in np.random.choice(pre_neurons, C_pre_size, replace=False):\n",
    "            pre.posts.extend([\n",
    "                Synapse(post, normal(μ, σ)) for post in\n",
    "                    np.random.choice(pre_neurons, C_post_size, replace=False)\n",
    "            ])\n",
    "\n",
    "            \n",
    "def fixed_number_of_presynaptics_parents(pre_neurons, post_neurons, config):\n",
    "    C = int(config.coupling_probability * len(pre_neurons))\n",
    "    μ, σ = config.mu, config.sigma    \n",
    "    normal = np.random.normal\n",
    "    for post in post_neurons:\n",
    "        for pre in np.random.choice(pre_neurons, C, replace=False):\n",
    "            pre.posts.append(Synapse(post, normal(μ, σ)))\n",
    "\n",
    "            \n",
    "connectivities = {\n",
    "    'full': full_connectivity,\n",
    "    'fixedCP': fixed_coupling_probability_connectivity,\n",
    "    'fixedNPP': fixed_number_of_presynaptics_parents,\n",
    "}"
   ]
  },
  {
   "cell_type": "markdown",
   "metadata": {},
   "source": [
    "### utitlites + Plotters"
   ]
  },
  {
   "cell_type": "code",
   "execution_count": null,
   "metadata": {},
   "outputs": [],
   "source": [
    "def noise(μ=0, σ=0.5):\n",
    "    return np.random.normal(μ, σ)"
   ]
  },
  {
   "cell_type": "code",
   "execution_count": null,
   "metadata": {},
   "outputs": [],
   "source": [
    "def choice(*choices):\n",
    "    return np.random.choice(choices)"
   ]
  },
  {
   "cell_type": "code",
   "execution_count": null,
   "metadata": {},
   "outputs": [],
   "source": [
    "class CurrentManager:\n",
    "    def __init__(self, duration, dt, currents):\n",
    "        self.time_intervals = np.arange(0, duration, dt)\n",
    "        self.currents = currents(duration, dt) if callable(currents) else currents\n",
    "    def __enter__(self):\n",
    "        return zip(self.currents, self.time_intervals)\n",
    "    def __exit__(self, type, value, traceback):\n",
    "        del self.currents\n",
    "        del self.time_intervals"
   ]
  },
  {
   "cell_type": "code",
   "execution_count": null,
   "metadata": {},
   "outputs": [],
   "source": [
    "def raster_plot(x, y, c):  \n",
    "    plt.scatter(x, y, s=1, c=c)\n",
    "    for (area,color,label) in [(20, 'y', 'inhibitory'), (80, 'm','excititory')]:\n",
    "        plt.scatter([], [], c=color, alpha=0.8, s=area, label=label)\n",
    "    plt.legend(scatterpoints=1, frameon=False, labelspacing=1)\n",
    "\n",
    "    plt.title(\"raster plot\")\n",
    "    plt.ylabel(\"Neurons\")\n",
    "    plt.xlabel(\"times\")\n",
    "    plt.show()"
   ]
  },
  {
   "cell_type": "markdown",
   "metadata": {},
   "source": [
    "### Setup"
   ]
  },
  {
   "cell_type": "code",
   "execution_count": null,
   "metadata": {},
   "outputs": [],
   "source": [
    "dt = 0.1\n",
    "duration = 20\n",
    "isi_config = CONFIGS['lif'](10+noise(0,2), 5, -60, -70, dt ,True)\n",
    "ise_config =CONFIGS['lif'](10+noise(0,2), 5, -60, -70, dt ,False)\n",
    "\n",
    "pop_config = CONFIGS['population'](1000, 0.8, LIF, isi_config, ise_config, 0.6)"
   ]
  },
  {
   "cell_type": "code",
   "execution_count": null,
   "metadata": {},
   "outputs": [],
   "source": [
    "def currentsCreator(duration, dt):\n",
    "    _currents = [0 for _ in np.arange(0, 5, dt)]\n",
    "    _currents.extend([np.random.uniform(2, 10) for _ in np.arange(5, duration-5, dt)])\n",
    "    _currents.extend([0 for _ in np.arange(duration-5, duration, dt)])\n",
    "    return _currents"
   ]
  },
  {
   "cell_type": "markdown",
   "metadata": {},
   "source": [
    "#### Full Connection population "
   ]
  },
  {
   "cell_type": "code",
   "execution_count": null,
   "metadata": {},
   "outputs": [],
   "source": [
    "pop = Population(pop_config)\n",
    "\n",
    "connect = connectivities['full']\n",
    "connection_configs = CONFIGS['connection'](0.2, 0.1, None)\n",
    "connect(pop.neurons, pop.neurons, connection_configs)"
   ]
  },
  {
   "cell_type": "markdown",
   "metadata": {},
   "source": [
    "#### Fixed coupling  population "
   ]
  },
  {
   "cell_type": "code",
   "execution_count": null,
   "metadata": {},
   "outputs": [],
   "source": [
    "pop = Population(pop_config)\n",
    "\n",
    "connect = connectivities['fixedCP']\n",
    "connection_configs = CONFIGS['connection'](0.2, 0.1, 0.01)\n",
    "connect(pop.neurons, pop.neurons, connection_configs)"
   ]
  },
  {
   "cell_type": "markdown",
   "metadata": {},
   "source": [
    "#### Fixed number of presynaptics parents population "
   ]
  },
  {
   "cell_type": "code",
   "execution_count": null,
   "metadata": {},
   "outputs": [],
   "source": [
    "pop = Population(pop_config)\n",
    "\n",
    "connect = connectivities['fixedNPP']\n",
    "connection_configs = CONFIGS['connection'](0.2, 0.1, 0.25)\n",
    "connect(pop.neurons, pop.neurons, connection_configs)"
   ]
  },
  {
   "cell_type": "markdown",
   "metadata": {},
   "source": [
    "#### Raster plot"
   ]
  },
  {
   "cell_type": "code",
   "execution_count": null,
   "metadata": {},
   "outputs": [],
   "source": [
    "full_progress = False\n",
    "with CurrentManager(duration, dt, currentsCreator) as currents:\n",
    "    population_spikes = []\n",
    "    for (I, t) in currents:\n",
    "        pop.activate(I, t)\n",
    "        pop.reset_inputs()\n",
    "        population_spikes = pop.get_detailed_spikes()\n",
    "\n",
    "        \n",
    "        if (not full_progress or population_spikes.shape[0] == 0):\n",
    "            continue\n",
    "        c = [1 if pop.neurons[int(i[0])].isi else 3 for i in population_spikes]\n",
    "        raster_plot(population_spikes[:, 1], population_spikes[:, 0], c)\n",
    "    if (not full_progress):\n",
    "        c = [1 if pop.neurons[int(i[0])].isi else 3 for i in population_spikes]\n",
    "        raster_plot(population_spikes[:, 1], population_spikes[:, 0], c)"
   ]
  },
  {
   "cell_type": "markdown",
   "metadata": {},
   "source": [
    "## Decision making"
   ]
  },
  {
   "cell_type": "markdown",
   "metadata": {},
   "source": [
    "### Utils + Plotters"
   ]
  },
  {
   "cell_type": "code",
   "execution_count": null,
   "metadata": {},
   "outputs": [],
   "source": [
    "def aggregate_spikes(*detailed_spike_traces):\n",
    "    spikes = None\n",
    "    gap = 0\n",
    "    for dst in detailed_spike_traces:\n",
    "        if dst.shape[0] == 0:\n",
    "            continue\n",
    "        \n",
    "        dst[:, 0] += gap\n",
    "        if spikes is None:\n",
    "            spikes = dst\n",
    "        else:\n",
    "            spikes = np.concatenate((spikes, dst), axis=0)\n",
    "        gap += pop.size\n",
    "\n",
    "    return np.array(spikes)"
   ]
  },
  {
   "cell_type": "markdown",
   "metadata": {},
   "source": [
    "### decision Plot"
   ]
  },
  {
   "cell_type": "code",
   "execution_count": null,
   "metadata": {},
   "outputs": [],
   "source": [
    "def decision_plot(activity_1, activity_2):\n",
    "    plt.plot(activity_1[:, 0], activity_1[:, 1], 'b', label=\"Population 1\")\n",
    "    plt.plot(activity_2[:, 0], activity_2[:, 1], 'c', label=\"Population 2\")\n",
    "    plt.title(\"Population Activities\")\n",
    "    plt.xlabel(\"time\")\n",
    "    plt.ylabel(\"Activity\")\n",
    "    plt.legend()\n",
    "    plt.show()"
   ]
  },
  {
   "cell_type": "markdown",
   "metadata": {},
   "source": [
    "### Setup"
   ]
  },
  {
   "cell_type": "code",
   "execution_count": null,
   "metadata": {},
   "outputs": [],
   "source": [
    "dt = 0.1\n",
    "duration = 60\n",
    "get_isi_config = lambda: CONFIGS['lif'](choice(8, 10, 12), choice(5, 8, 10)+noise(), choice(-60, -65, -50), choice(-70, -75), dt ,True)\n",
    "get_ise_config = lambda: CONFIGS['lif'](choice(8, 10, 12), choice(5, 8, 10)+noise(), choice(-60, -65, -50), choice(-70, -75), dt ,False)\n",
    "\n",
    "pop_A_config = CONFIGS['population'](400, 1, LIF, get_isi_config(), get_ise_config(), noise(0.5, 0.4))\n",
    "pop_B_config = CONFIGS['population'](400, 1, LIF, get_isi_config(), get_ise_config(), noise(0.5, 0.4))\n",
    "pop_C_config = CONFIGS['population'](200, 0, LIF, get_isi_config(), get_ise_config(), noise(0.5, 0.4))\n"
   ]
  },
  {
   "cell_type": "code",
   "execution_count": null,
   "metadata": {},
   "outputs": [],
   "source": [
    "def currentsCreator(duration, dt):\n",
    "    # A pop currents\n",
    "    _currents_A = [0 for _ in np.arange(0, 5, dt)]\n",
    "    _currents_A.extend([np.random.uniform(2, 7) for _ in np.arange(5, duration-5, dt)])\n",
    "    _currents_A.extend([0 for _ in np.arange(duration-5, duration, dt)])\n",
    "    # B pop currents\n",
    "    _currents_B = [0 for _ in np.arange(0, 5, dt)]\n",
    "    _currents_B.extend([np.random.uniform(0, 1) for _ in np.arange(5, duration-5, dt)])\n",
    "    _currents_B.extend([0 for _ in np.arange(duration-5, duration, dt)])\n",
    "    # C pop currents\n",
    "    _currents_C = [0 for _ in np.arange(0, 5, dt)]\n",
    "    _currents_C.extend([np.random.uniform(2, 9) for _ in np.arange(5, duration-5, dt)])\n",
    "    _currents_C.extend([0 for _ in np.arange(duration-5, duration, dt)])\n",
    "    \n",
    "    return zip(_currents_A, _currents_B, _currents_C)"
   ]
  },
  {
   "cell_type": "code",
   "execution_count": null,
   "metadata": {},
   "outputs": [],
   "source": [
    "pop_A = Population(pop_A_config)\n",
    "pop_B = Population(pop_B_config)\n",
    "pop_C = Population(pop_C_config)\n",
    "\n",
    "# connections\n",
    "connectCP = connectivities['fixedCP']\n",
    "connectNNP = connectivities['fixedNPP']\n",
    "\n",
    "get_connection_config = lambda: CONFIGS['connection'](abs(0.2+noise(0.1,0.2)), abs(0.1+noise(0.1,0.1)), abs(0.1+noise(0.2, 0.1)))\n",
    "\n",
    "# recurrent\n",
    "connectNNP(pop_A.neurons, pop_A.neurons, get_connection_config())\n",
    "connectNNP(pop_B.neurons, pop_B.neurons, get_connection_config())\n",
    "connectNNP(pop_C.neurons, pop_C.neurons, get_connection_config())\n",
    "\n",
    "# cyclic\n",
    "connectNNP(pop_A.neurons, pop_B.neurons, get_connection_config())\n",
    "connectNNP(pop_B.neurons, pop_A.neurons, get_connection_config())\n",
    "\n",
    "connectNNP(pop_A.neurons, pop_C.neurons, get_connection_config())\n",
    "connectNNP(pop_C.neurons, pop_A.neurons, get_connection_config())\n",
    "\n",
    "connectNNP(pop_B.neurons, pop_C.neurons, get_connection_config())\n",
    "connectNNP(pop_C.neurons, pop_B.neurons, get_connection_config())"
   ]
  },
  {
   "cell_type": "code",
   "execution_count": null,
   "metadata": {
    "scrolled": true
   },
   "outputs": [],
   "source": [
    "full_progress = False\n",
    "with CurrentManager(duration, dt, currentsCreator) as currents:\n",
    "    population_spikes = []\n",
    "    for (I_A, I_B, I_C), t in currents:\n",
    "        # activation\n",
    "        pop_A.activate(I_A, t)\n",
    "        pop_B.activate(I_B, t)\n",
    "        pop_C.activate(I_C, t)\n",
    "        # reseting\n",
    "        pop_A.reset_inputs()\n",
    "        pop_B.reset_inputs()\n",
    "        pop_C.reset_inputs()\n",
    "        \n",
    "        if full_progress:\n",
    "            population_spikes = aggregate_spikes(pop_A.get_detailed_spikes(), \n",
    "                                                 pop_A.get_detailed_spikes(), \n",
    "                                                 pop_C.get_detailed_spikes())\n",
    "            \n",
    "            \n",
    "            \"\"\" raster plot \"\"\"\n",
    "            # c = [choice('m', 'y') for i in range(population_spikes.shape[0])]\n",
    "            # raster_plot(population_spikes[:, 1], population_spikes[:, 0], c)\n",
    "            \"\"\" descision plot \"\"\"\n",
    "            decision_plot(np.array(pop_A.activities), np.array(pop_B.activities))\n",
    "        \n",
    "        if (t % 5 == 0):\n",
    "            print(f\"{t}/{duration}\")\n",
    "            \n",
    "    if not full_progress:\n",
    "        # descision plot\n",
    "        decision_plot(np.array(pop_A.activities), np.array(pop_B.activities))"
   ]
  },
  {
   "cell_type": "markdown",
   "metadata": {},
   "source": [
    "## Documentation\n",
    "\n",
    "### Terms and Norms\n",
    "\n",
    "population size $N$ (Network with $N$ Neurons)\n",
    "\n",
    "$\\Delta t$ is a small time interval\n",
    "\n",
    "### Population Activity $A(t)$\n",
    "$n_{act}(t, t + \\Delta t)$ return number of spikes for population\n",
    "\n",
    "$A(t) = \\lim\\limits_{\\Delta t \\to 0} \\frac{n_{act}(t, t + \\Delta t)}{\\Delta t * N}$ in discrit mathematic we approximate to $\\frac{\\sum\\limits_{j=1}^N \\sum\\limits_{f} \\delta (t - t^f)}{N}$\n",
    "\n",
    "### Interaction population\n",
    "The input cuurent to a neuron i in group $\\Gamma_n$ is generated by the spikes of all its connected nuerons\n",
    "\n",
    "$I_{i,n} = \\sum\\limits_j \\sum\\limits_f w_{ij} \\alpha_{ij} (t - t_j^f)$\n",
    "\n",
    "$I_n = I_{i,n} = \\sum\\limits_m J_{nm} \\int_0^{\\infty} \\alpha(s) A_m(t - s)ds$\n",
    "\n",
    "\n",
    "### Example: Homogeneous population of integrate-and-fire neurons\n",
    "\n",
    "In the case of leaky integrate-and-fire neurons, encountered in Chapters 1 and 5 (Wulfram, Werner)\n",
    "\n",
    "$\\tau_m \\frac{d}{dt}u_i = -u_i + RI_i(t) \\text{ for } u_i \\lt \\theta$\n",
    "\n",
    "combined with a reset condition: if $u_i \\ge \\theta$ then integration restarts at $u_{rest}$\n",
    "\n",
    "A homogeneous network implies that all neurons have the same input resistance $R$, the same membrane\n",
    "time constant $\\tau_m$, as well as identical thresholds $\\theta$ and reset values $u_{rest}$. \n",
    "\n",
    "$I_i =\\sum\\limits_{j=1}^N\\sum_f w_{ij}\\alpha(t −t_j^f) + I^{ext}(t)$\n",
    "\n",
    "\n",
    "#### Competition through common inhibition\n",
    "\n",
    "A network consisting of two excitatory populations interacting with\n",
    "a common inhibitory population\n",
    "\n",
    "Within the two excitatory populations neurons are randomly connected with \"fixed number of presynaptics parents\" & \"fixed coupling probability connectivity\" strategy.\n",
    "\n",
    "Parameters and connection weights are adjusted to have\n",
    "spontaneous activity at low firing rates\n",
    "\n",
    "Competition through common inhibition\n",
    "+ Consider a strong, but unbiased stimulus.\n",
    "+ Immediately after the onset of stimulation, both excitatory populations increase their firing rates.\n",
    "+ Soon afterward, one of the activities grows further and the other one is suppressed.\n",
    "+ The population which develops a high activity is called the winner of the competition."
   ]
  }
 ],
 "metadata": {
  "kernelspec": {
   "display_name": "Python 3",
   "language": "python",
   "name": "python3"
  },
  "language_info": {
   "codemirror_mode": {
    "name": "ipython",
    "version": 3
   },
   "file_extension": ".py",
   "mimetype": "text/x-python",
   "name": "python",
   "nbconvert_exporter": "python",
   "pygments_lexer": "ipython3",
   "version": "3.7.4"
  }
 },
 "nbformat": 4,
 "nbformat_minor": 2
}
