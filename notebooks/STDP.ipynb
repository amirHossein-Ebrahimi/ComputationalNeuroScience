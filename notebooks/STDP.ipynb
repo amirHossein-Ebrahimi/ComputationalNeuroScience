{
 "cells": [
  {
   "cell_type": "markdown",
   "metadata": {},
   "source": [
    "## Packages"
   ]
  },
  {
   "cell_type": "code",
   "execution_count": 3,
   "metadata": {},
   "outputs": [],
   "source": [
    "import matplotlib.pyplot as plt\n",
    "import numpy as np\n",
    "import random\n",
    "import math\n",
    "from collections import namedtuple\n",
    "%matplotlib inline"
   ]
  },
  {
   "cell_type": "code",
   "execution_count": 4,
   "metadata": {},
   "outputs": [],
   "source": [
    "\"\"\" ⚡⚡⚡⚡⚡⚡⚡ \"\"\" \n",
    "# Remove this if you want to test neural activities. this is for reporducibility purpose\n",
    "np.random.seed(19680801)"
   ]
  },
  {
   "cell_type": "markdown",
   "metadata": {},
   "source": [
    "### Optimizations for Matplotlib"
   ]
  },
  {
   "cell_type": "code",
   "execution_count": 5,
   "metadata": {},
   "outputs": [],
   "source": [
    "import matplotlib as mpl\n",
    "import matplotlib.style as mplstyle\n",
    "mpl.rcParams['path.simplify'] = True\n",
    "mpl.rcParams['path.simplify_threshold'] = 1.0\n",
    "mpl.rcParams['agg.path.chunksize'] = 10000\n",
    "mplstyle.use('fast')"
   ]
  },
  {
   "cell_type": "markdown",
   "metadata": {},
   "source": [
    "### Leaky Integrate & Fire Model"
   ]
  },
  {
   "cell_type": "code",
   "execution_count": 183,
   "metadata": {},
   "outputs": [],
   "source": [
    "class LIF:\n",
    "    __slots__ = ['dt__τ', 'θ', 'R', 'u_rest', 'u', 'input',  'spike_trace', 'isi', 'posts', 'input']\n",
    " \n",
    "    def __init__(self, config: namedtuple):\n",
    "        self.θ = config.threshold\n",
    "        self.R = config.resistor\n",
    "        self.u_rest = config.uRest\n",
    "        self.dt = config.dt \n",
    "        self.τ = config.tau\n",
    "        self.isi = int(config.isInhibitory)\n",
    "        self.u = self.u_rest\n",
    "        self.input = {}\n",
    "        self.spike_trace = []\n",
    "        self.posts = []\n",
    "        \n",
    "    def integrate(self, I, t):\n",
    "        \"\"\" \n",
    "        integrate(currentValue, currentTime)\n",
    "        return one if neuron spikes in currentTime otherwise it will return zero\n",
    "        \"\"\"\n",
    "        \n",
    "        # compute potential\n",
    "        self.u += (self.u_rest - self.u + self.R * I) * (self.dt / self.τ)\n",
    "        # Add presynaptic input\n",
    "        self.u += self.input.get(t, 0) * self.R * (self.dt / self.τ)\n",
    "        #  compute spikes\n",
    "        if self.u >= self.θ:\n",
    "            self.u = self.u_rest\n",
    "            self.spike_trace.append(t)\n",
    "            # update entry input for post synaptic neurons\n",
    "            for synapse in self.posts:\n",
    "                fs_time = t + (1//self.dt*self.dt) + self.dt  # future spikes time\n",
    "                if fs_time no in synpse.neuron.input:\n",
    "                        synapse.neuron.input[fs_time] = 0\n",
    "                synapse.neuron.input[fs_time] += pow(-1,self.isi) * synapse.w\n",
    "        \n",
    "        return int(t in self.spike_trace[-1:]) # if neuron has just spiked in time t return 1 otherwise 0    \n",
    "    \n",
    "    def reset(self, t, alpha):\n",
    "        # reset inputs\n",
    "        if self.input.get(t, 0) == 0:\n",
    "            return\n",
    "        value = self.input.pop(t)\n",
    "        # search for next 6 feasable seconds delayed\n",
    "        for sec in range(1, 6):\n",
    "            fs_time = t + (sec//self.dt*self.dt) \n",
    "            if fs_time in self.input:\n",
    "                self.input[fs_time] += value * alpha"
   ]
  },
  {
   "cell_type": "code",
   "execution_count": null,
   "metadata": {},
   "outputs": [],
   "source": []
  },
  {
   "cell_type": "markdown",
   "metadata": {},
   "source": [
    "### Inverstigation"
   ]
  },
  {
   "cell_type": "code",
   "execution_count": 20,
   "metadata": {},
   "outputs": [],
   "source": [
    "# LIFConfig=namedtuple('LIFConfig', 'tau resistor threshold uRest dt isInhibitory')\n",
    "# lif_config = LIFConfig(5, 10, -65, -70, 0.5, False)\n",
    "# currents = np.linspace(0, 2, 200)\n",
    "# currents = np.array([0.6 for i in range(200)])\n",
    "# dts = np.linspace(0,10, 200)\n",
    "# neuron = LIF(lif_config)"
   ]
  },
  {
   "cell_type": "code",
   "execution_count": null,
   "metadata": {},
   "outputs": [],
   "source": []
  },
  {
   "cell_type": "markdown",
   "metadata": {},
   "source": [
    "## STDP unsupervised learning \n",
    "\n",
    "\n",
    "```python\n",
    "src = LIF_Neuron\n",
    "dest = LIF_Neuron\n",
    "\n",
    "current_src <- noisy current for src for duration \n",
    "current_dest <- noisy current for dest for duration \n",
    "\n",
    "#connect src to dest with stdp config\n",
    "\n",
    "for neuron in [src, dest]:\n",
    "    # compute neuron potential\n",
    "    # apply pre synaptic for neuron\n",
    "    # compute spikes for neuron\n",
    "    # reset inputs for neuron\n",
    "    \n",
    "    if src.spiked and dest.spiked :\n",
    "        update.stdp_connection\n",
    "        store.append([deltaT, deltaW]\n",
    "```\n"
   ]
  },
  {
   "cell_type": "code",
   "execution_count": 21,
   "metadata": {
    "scrolled": false
   },
   "outputs": [],
   "source": [
    "dt = 1\n",
    "duration = 20\n",
    "delta_w_delta_t = []\n",
    "s = []\n",
    "d = []\n",
    "for i in np.arange(-1 * duration, duration, 0.5):\n",
    "    sd = get_current(duration, dt, i)\n",
    "    s.append(sd[0])\n",
    "    d.append(sd[1])"
   ]
  },
  {
   "cell_type": "code",
   "execution_count": 27,
   "metadata": {},
   "outputs": [
    {
     "data": {
      "text/plain": [
       "[<matplotlib.lines.Line2D at 0x2892e0f3988>]"
      ]
     },
     "execution_count": 27,
     "metadata": {},
     "output_type": "execute_result"
    },
    {
     "data": {
      "image/png": "[encoded data removed]",
      "text/plain": [
       "<Figure size 432x288 with 1 Axes>"
      ]
     },
     "metadata": {
      "needs_background": "light"
     },
     "output_type": "display_data"
    }
   ],
   "source": [
    "s = np.array(s).flatten()\n",
    "plt.plot(np.linspace(0, 10, 1600), s)\n",
    "d = np.array(d).flatten()\n",
    "plt.plot(np.linspace(0, 10, 1600), d)\n"
   ]
  },
  {
   "cell_type": "markdown",
   "metadata": {},
   "source": [
    "### first Phase"
   ]
  },
  {
   "cell_type": "code",
   "execution_count": 191,
   "metadata": {},
   "outputs": [],
   "source": [
    "# params\n",
    "MAX_I = 5\n",
    "LIFConfig = namedtuple('LIFConfig', 'tau resistor threshold uRest dt isInhibitory')\n",
    "lif_config = LIFConfig(5, 10, -65, -70, 0.5, False)\n",
    "SynapseConfig = namedtuple('SynapseConfig', 'neuron w')\n",
    "dt = 1\n",
    "duration = 20\n",
    "delta_gap = 0.5\n",
    "INIT_WEIGHT = 1\n",
    "ΔwΔt = []"
   ]
  },
  {
   "cell_type": "code",
   "execution_count": 175,
   "metadata": {},
   "outputs": [],
   "source": [
    "def get_current(duration, dt, delta):\n",
    "    src = []\n",
    "    dest = []\n",
    "    times = np.arange(0, duration, dt)\n",
    "    if delta >= 0:\n",
    "        src = np.array([MAX_I] * times.shape[0])\n",
    "        dest = np.zeros(times.shape)\n",
    "        dest[times >= delta] = MAX_I\n",
    "        return zip(src, dest)\n",
    "    \n",
    "    dest = np.array([MAX_I] * times.shape[0])\n",
    "    src = np.zeros(times.shape)\n",
    "    src[times >= -1*delta] = MAX_I\n",
    "    return zip(src, dest, times)"
   ]
  },
  {
   "cell_type": "code",
   "execution_count": 193,
   "metadata": {},
   "outputs": [
    {
     "ename": "AttributeError",
     "evalue": "'LIF' object has no attribute 'post'",
     "output_type": "error",
     "traceback": [
      "\u001b[1;31m---------------------------------------------------------------------------\u001b[0m",
      "\u001b[1;31mAttributeError\u001b[0m                            Traceback (most recent call last)",
      "\u001b[1;32m<ipython-input-193-dc5192752b22>\u001b[0m in \u001b[0;36m<module>\u001b[1;34m\u001b[0m\n\u001b[0;32m      5\u001b[0m \u001b[1;33m\u001b[0m\u001b[0m\n\u001b[0;32m      6\u001b[0m     \u001b[1;31m# set connection\u001b[0m\u001b[1;33m\u001b[0m\u001b[1;33m\u001b[0m\u001b[1;33m\u001b[0m\u001b[0m\n\u001b[1;32m----> 7\u001b[1;33m     \u001b[0msrc\u001b[0m\u001b[1;33m.\u001b[0m\u001b[0mpost\u001b[0m\u001b[1;33m.\u001b[0m\u001b[0mappend\u001b[0m\u001b[1;33m(\u001b[0m\u001b[0mSynapseConfig\u001b[0m\u001b[1;33m(\u001b[0m\u001b[0mdest\u001b[0m\u001b[1;33m,\u001b[0m \u001b[0mINIT_WEIGHT\u001b[0m\u001b[1;33m)\u001b[0m\u001b[1;33m)\u001b[0m\u001b[1;33m\u001b[0m\u001b[1;33m\u001b[0m\u001b[0m\n\u001b[0m\u001b[0;32m      8\u001b[0m     \u001b[1;32mfor\u001b[0m \u001b[1;33m(\u001b[0m\u001b[0mIs\u001b[0m\u001b[1;33m,\u001b[0m \u001b[0mId\u001b[0m\u001b[1;33m,\u001b[0m \u001b[0mt\u001b[0m\u001b[1;33m)\u001b[0m \u001b[1;32min\u001b[0m \u001b[0mcurrents\u001b[0m\u001b[1;33m:\u001b[0m\u001b[1;33m\u001b[0m\u001b[1;33m\u001b[0m\u001b[0m\n\u001b[0;32m      9\u001b[0m         \u001b[0msrc\u001b[0m\u001b[1;33m.\u001b[0m\u001b[0mintegrate\u001b[0m\u001b[1;33m(\u001b[0m\u001b[0mIs\u001b[0m\u001b[1;33m,\u001b[0m \u001b[0mt\u001b[0m\u001b[1;33m)\u001b[0m\u001b[1;33m\u001b[0m\u001b[1;33m\u001b[0m\u001b[0m\n",
      "\u001b[1;31mAttributeError\u001b[0m: 'LIF' object has no attribute 'post'"
     ]
    }
   ],
   "source": [
    "for delta in np.arange(-1*duration, duration, delta_gap):\n",
    "    currents = get_current(duration, dt, delta)\n",
    "    src = LIF(lif_config)\n",
    "    dest = LIF(lif_config)\n",
    "    \n",
    "    # set connection\n",
    "    src.post.append(SynapseConfig(dest, INIT_WEIGHT))\n",
    "    for (Is, Id, t) in currents:\n",
    "        src.integrate(Is, t)\n",
    "        src.reset(t, alpha=0.5)\n",
    "        \n",
    "        dest.integrate(Is, t)\n",
    "        dest.reset(t, alpha=0.5)\n",
    "        \n",
    "        if (len(src.spike_trace) and len(dest.spike_trace)):\n",
    "            for synapse in pre.post:\n",
    "                w = synapse.w\n",
    "                Δw, Δt = stdp(w, src.spike_trace[-1], dest.spike_trace[-1])\n",
    "                synapse._replace(w=w+Δw)\n",
    "                ΔwΔt.aapend([Δw, Δt])\n",
    "            break\n",
    "delta_w_delta_t = np.array(delta_w_delta_t)\n",
    "plt.plot(delta_w_delta_t[:, 0], delta_w_delta_t[:, 1], 'o')\n",
    "plt.show()"
   ]
  },
  {
   "cell_type": "markdown",
   "metadata": {},
   "source": [
    "$\\Delta_t \\geq  0 \\implies t_{pre} < t_{post}$"
   ]
  },
  {
   "cell_type": "code",
   "execution_count": 197,
   "metadata": {},
   "outputs": [
    {
     "ename": "SyntaxError",
     "evalue": "invalid syntax (<ipython-input-197-e9014f6650de>, line 1)",
     "output_type": "error",
     "traceback": [
      "\u001b[1;36m  File \u001b[1;32m\"<ipython-input-197-e9014f6650de>\"\u001b[1;36m, line \u001b[1;32m1\u001b[0m\n\u001b[1;33m    def stdp(w, t_pre, t_post, w, tau_=5. tau__=5, A__=lambda x: 10, A_=lambda x: -10):\u001b[0m\n\u001b[1;37m                                              ^\u001b[0m\n\u001b[1;31mSyntaxError\u001b[0m\u001b[1;31m:\u001b[0m invalid syntax\n"
     ]
    }
   ],
   "source": [
    "# def stdp(w, t_pre, t_post, w, tau_=5. tau__=5, A__=lambda x: 10, A_=lambda x: -10):\n",
    "#     Δt =  t_post - t_pre\n",
    "#     if (Δt >= 0):\n",
    "#         # A Plus or minus minus :)\n",
    "#         Δw =  A__(w) * np.exp(-abs(Δt) / tau__)    \n",
    "#     else:\n",
    "#         # A minus\n",
    "#         Δw =  A_(w) * np.exp(-abs(Δt) / tau_)\n",
    "#     return Δw, Δt \n",
    "# SynapseConfig = namedtuple('SynapseConfig', 'neuron w')\n",
    "# syn = SynapseConfig(50, 1)\n",
    "# print(syn)\n",
    "# syn = syn._replace(w=2)\n",
    "# print(syn)\n",
    "\n"
   ]
  },
  {
   "cell_type": "code",
   "execution_count": null,
   "metadata": {},
   "outputs": [],
   "source": []
  },
  {
   "cell_type": "markdown",
   "metadata": {},
   "source": [
    "## Report"
   ]
  },
  {
   "cell_type": "markdown",
   "metadata": {},
   "source": [
    "The temporal distance of the spikes in the pair is of the order of a\n",
    "few to tens of milliseconds, whereas the temporal distance\n",
    "between the pairs is of the order of hundreds of milliseconds to\n",
    "seconds.\n",
    "Experiments show that increasing the repetition frequency leads\n",
    "to an increase in potentiation.\n",
    "The pair-based STDP cannot give a full account of experimental\n",
    "results (repetition frequency or triplet and quadruplet\n",
    "experiments).\n",
    "According to the pair-based STDP, if the repetition frequency r is\n",
    "increased, the depression effect becomes greater, which is not\n",
    "experimentally true!\n",
    "Instead, symmetric triplets of the form pre-post-pre and\n",
    "post-pre-post are used.\n",
    "\n",
    "The LTP is proportional to the value of xj evaluated at tif and the slow trace yi;2:\n",
    "∆w+\n",
    "ij (tif ) = A+(wij)xj(tif )yi;2(tif−);\n",
    "where tf−\n",
    "i indicates the value of yi;2 before it is incremented due to the postsynaptic spike at tif .\n",
    "Similar argument works for LTD\n",
    "\n",
    "STDP learning rule\n",
    "The change in weight of a synapse depends on the temporal\n",
    "difference j∆tj = jtpost − tprej:\n",
    "∆w+ = A+(w) · exp(−j∆tj=t+) at tpost for tpre < tpost;\n",
    "∆w\n",
    "− = A−(w) · exp(−j∆tj=t−) at tpre for tpre < tpost:\n",
    "Happens immediately after each\n",
    "spike (at times tpre and tpost).\n",
    "This rule is fully specified by\n",
    "defining:\n",
    "(i) the weight-dependence of the\n",
    "amplitude parameter A±(w).\n",
    "(ii) which spike pairs are taken into\n",
    "consideration (all pairs or\n",
    "nearest one).\n",
    "Two intracellular electrodes were used (one for stimulation, one\n",
    "for measurement of the neuronal response).\n",
    "Excellent spatial and temporal resolution.\n",
    "Synaptic weight change (∆wji) turns out to be a function of tjf −tif .\n",
    "The direction of the change depends on the relative timing of preand postsynaptic spikes. 496 Synaptic \n",
    "Two intracellular electrodes were used (one for stimulation, one\n",
    "for measurement of the neuronal response).\n",
    "Excellent spatial and temporal resolution.\n",
    "Synaptic weight change (∆wji) turns out to be a function of tjf −tif .\n",
    "The direction of the change depends on the relative timing of preand postsynaptic spikes. 496 Synaptic "
   ]
  },
  {
   "cell_type": "markdown",
   "metadata": {},
   "source": [
    "### Neuron Populations\n",
    "\n",
    "\n",
    "$\\Delta t$ is a small time interval\n",
    "\n",
    "##### Population Activity $A(t)$\n",
    "$n_{act}(t, t + \\Delta t)$ return number of spikes for population\n",
    "\n",
    "$A(t) = \\lim\\limits_{\\Delta t \\to 0} \\frac{n_{act}(t, t + \\Delta t)}{\\Delta t * N}$ in discrit mathematic we approximate to $\\frac{\\sum\\limits_{j=1}^N \\sum\\limits_{f} \\delta (t - t^f)}{N}$\n"
   ]
  },
  {
   "cell_type": "code",
   "execution_count": 202,
   "metadata": {},
   "outputs": [],
   "source": [
    "class Population:\n",
    "    def __init__(self, conf: namedtuple):\n",
    "        self.size = conf.size\n",
    "        \n",
    "        # inhibitory neurons\n",
    "        isi_size = int((1 - conf.splitSize) * self.size)\n",
    "        self.neurons = [conf.neuron(conf.isiConfig) for _ in range(isi_size)]\n",
    "       \n",
    "        # exicitory neurons\n",
    "        self.neurons.extend(\n",
    "            [conf.neuron(conf.iseConfig) for _ in range(self.size - isi_size)]\n",
    "        )\n",
    "        \n",
    "        self.α = conf.traceAlpha\n",
    "        self.activities = []\n",
    "        \n",
    "    def activate(self, I, t):\n",
    "        # count of spikes for all neurons with a generator        \n",
    "        n_act = sum((neuron.integrate(I, t) for neuron in self.neurons))\n",
    "        self.activities.append((t, n_act / self.size))\n",
    "    \n",
    "    def reset_inputs(self):\n",
    "        for neuron in self.neurons:\n",
    "            neuron.input = min(0, (1 - self.α) * neuron.input)\n",
    "    \n",
    "    def get_detailed_spikes(self):\n",
    "        return np.array([\n",
    "            [i, tf] for (i, neuron) in enumerate(self.neurons) for tf in neuron.spike_trace\n",
    "        ])\n"
   ]
  },
  {
   "cell_type": "markdown",
   "metadata": {},
   "source": [
    "#### Configuration (namedtuple)\n",
    "\n",
    "lif:\n",
    "+ tau : $\\tau$\n",
    "+ resistor: $R$\n",
    "+ threshold: $\\theta$\n",
    "+ uRest: $u_{rest}$\n",
    "+ dt: small interval of time to make dynamic equeation discrete\n",
    "+ isInhibitory: falg showing a neuron is inhibitory or not \n",
    "\n",
    "synapse:\n",
    "+ neuron: reference to post synaptic neuron (it can be from other populations)\n",
    "+ w: connection weight\n",
    "\n",
    "population:\n",
    "+ size: size of population\n",
    "+ splitSize: $pop = [(1-splitSize) * size] * neurons^{inhibitory} \\cup [splitSize * size] * neurons^{excitatory}$\n",
    "+ neuron: neuron model [LIF, ELIF, AELIF, ...]\n",
    "+ isiConfig: configuration for inhibitory neurons \n",
    "+ iseConfig: configuration for excitatory neurons \n",
    "+ traceAlpha: $\\alpha$ used in inputs reseting phase "
   ]
  },
  {
   "cell_type": "code",
   "execution_count": 206,
   "metadata": {},
   "outputs": [],
   "source": [
    "CONFIGS = {\n",
    "    # neurons\n",
    "    \"lif\": namedtuple('LIFConfig', 'tau resistor threshold uRest dt isInhibitory'),\n",
    "    # connections\n",
    "    \"synapse\": namedtuple('SynapseConfig', 'neuron w'),\n",
    "    \"connection\": namedtuple('ConnectionTypeConfig', 'mu sigma coupling_probability'),\n",
    "    # population\n",
    "    \"population\": namedtuple('PopulationParams', 'size splitSize neuron isiConfig iseConfig traceAlpha'),\n",
    "}"
   ]
  },
  {
   "cell_type": "code",
   "execution_count": 207,
   "metadata": {},
   "outputs": [],
   "source": [
    "Synapse = CONFIGS['synapse']\n",
    "\n",
    "def full_connectivity(pre_neurons, post_neurons, config):\n",
    "    μ, σ = config.mu, config.sigma    \n",
    "    normal = np.random.normal\n",
    "\n",
    "    for pre in pre_neurons:\n",
    "        for post in post_neurons:\n",
    "            pre.posts.append(Synapse(post, normal(μ, σ)))\n",
    "\n",
    "            \n",
    "def fixed_coupling_probability_connectivity(pre_neurons, post_neurons, config):\n",
    "        C_pre_size = int(config.coupling_probability * len(pre_neurons))\n",
    "        C_post_size = int(config.coupling_probability * len(post_neurons))\n",
    "\n",
    "        μ, σ = config.mu, config.sigma    \n",
    "        normal = np.random.normal\n",
    "\n",
    "        for pre in np.random.choice(pre_neurons, C_pre_size, replace=False):\n",
    "            pre.posts.extend([\n",
    "                Synapse(post, normal(μ, σ)) for post in\n",
    "                    np.random.choice(pre_neurons, C_post_size, replace=False)\n",
    "            ])\n",
    "\n",
    "            \n",
    "def fixed_number_of_presynaptics_parents(pre_neurons, post_neurons, config):\n",
    "    C = int(config.coupling_probability * len(pre_neurons))\n",
    "    μ, σ = config.mu, config.sigma    \n",
    "    normal = np.random.normal\n",
    "    for post in post_neurons:\n",
    "        for pre in np.random.choice(pre_neurons, C, replace=False):\n",
    "            pre.posts.append(Synapse(post, normal(μ, σ)))\n",
    "\n",
    "            \n",
    "connectivities = {\n",
    "    'full': full_connectivity,\n",
    "    'fixedCP': fixed_coupling_probability_connectivity,\n",
    "    'fixedNPP': fixed_number_of_presynaptics_parents,\n",
    "}"
   ]
  },
  {
   "cell_type": "code",
   "execution_count": null,
   "metadata": {},
   "outputs": [],
   "source": [
    "### utitlites + Plotters\n",
    "def noise(μ=0, σ=0.5):\n",
    "    return np.random.normal(μ, σ)\n",
    "def choice(*choices):\n",
    "    return np.random.choice(choices)\n",
    "class CurrentManager:\n",
    "    def __init__(self, duration, dt, currents):\n",
    "        self.time_intervals = np.arange(0, duration, dt)\n",
    "        self.currents = currents(duration, dt) if callable(currents) else currents\n",
    "    def __enter__(self):\n",
    "        return zip(self.currents, self.time_intervals)\n",
    "    def __exit__(self, type, value, traceback):\n",
    "        del self.currents\n",
    "        del self.time_intervals\n"
   ]
  },
  {
   "cell_type": "code",
   "execution_count": 208,
   "metadata": {},
   "outputs": [],
   "source": [
    "def raster_plot(x, y, c):  \n",
    "    plt.scatter(x, y, s=1, c=c)\n",
    "    for (area,color,label) in [(20, 'y', 'inhibitory'), (80, 'm','excititory')]:\n",
    "        plt.scatter([], [], c=color, alpha=0.8, s=area, label=label)\n",
    "    plt.legend(scatterpoints=1, frameon=False, labelspacing=1)\n",
    "\n",
    "    plt.title(\"raster plot\")\n",
    "    plt.ylabel(\"Neurons\")\n",
    "    plt.xlabel(\"times\")\n",
    "    plt.show()"
   ]
  },
  {
   "cell_type": "code",
   "execution_count": null,
   "metadata": {},
   "outputs": [],
   "source": []
  }
 ],
 "metadata": {
  "kernelspec": {
   "display_name": "Python 3",
   "language": "python",
   "name": "python3"
  },
  "language_info": {
   "codemirror_mode": {
    "name": "ipython",
    "version": 3
   },
   "file_extension": ".py",
   "mimetype": "text/x-python",
   "name": "python",
   "nbconvert_exporter": "python",
   "pygments_lexer": "ipython3",
   "version": "3.7.4"
  }
 },
 "nbformat": 4,
 "nbformat_minor": 2
}
