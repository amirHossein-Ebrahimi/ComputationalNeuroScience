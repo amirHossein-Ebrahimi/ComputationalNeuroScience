{
 "cells": [
  {
   "cell_type": "code",
   "execution_count": 3,
   "metadata": {},
   "outputs": [],
   "source": [
    "import numpy as np\n",
    "import matplotlib.pyplot as plt\n",
    "import random\n",
    "import math\n",
    "from collections import namedtuple"
   ]
  },
  {
   "cell_type": "markdown",
   "metadata": {},
   "source": [
    "For **getting help** about parameters and return results:\n",
    "\n",
    "`help(function_you_dont_know)`  \n",
    "or use numpy info function   \n",
    "`np.info(function_you_dont_know)`"
   ]
  },
  {
   "cell_type": "code",
   "execution_count": 74,
   "metadata": {},
   "outputs": [],
   "source": [
    "class Neuron:    \n",
    "    @staticmethod\n",
    "    def integrate(U, I, dt, config):\n",
    "        \"\"\"\n",
    "            Calculate next potentials list based on last potentials and Currents input which neurons get\n",
    "            Cause numpy brodcasting ability, functions may work correct for single entry for ndarrays \n",
    "\n",
    "            Keyword arguments:\n",
    "            U -- potentials array <numpy.ndarray>\n",
    "            I -- current stands for internat and extrenal currents which every neurons recives <numpy.ndarray>\n",
    "            dt -- time step for each step <float>\n",
    "            config -- A matrix containg configuration for each of neurons <numpy.ndarray>\n",
    "                      it must [u_rest, R, threshhold, tau] it use array keyword referencing.\n",
    "            \n",
    "            return:\n",
    "            a tuple that contains (potentials, spikedActivity)\n",
    "            potentials -- new potentials calculated based on Leaky integrated and fire dynamics <numpu.ndarray>\n",
    "            spikedActivity -- boolean array which shows wheter neuron spiked in this step or not <numpy.ndarray>\n",
    "        \"\"\"\n",
    "        u_rest = config['u_rest']\n",
    "        potentials = ((u_rest - U) + config['R'] * I) * (dt / config['tau'])\n",
    "        potentials[potentials >= config['threshhold']] = u_rest\n",
    "        return potentials, potentials == u_rest\n",
    "        \n",
    "    @staticmethod\n",
    "    def generate_config(tau=5, resistor=5, threshhold=-70, uRest=-65, noise=None):\n",
    "        \"\"\" \n",
    "            generate configuration for variables make them noisy in if args presented\n",
    "\n",
    "            Keyword arguments:\n",
    "            tau -- time constant for decays (default=5)\n",
    "            resistor -- (default=5)\n",
    "            threshhold -- (default=-70)\n",
    "            uRest -- (default=-65)\n",
    "            noise -- setup for adding noise to configuration, make them not be exactly the same \n",
    "                    { size } (default=None)\n",
    "                    size -- size of configuration\n",
    "\n",
    "            return: configurations\n",
    "\n",
    "            TODO: accept None in noise to prevent gauusain noise around specifi varibale\n",
    "            TODO: accpet diffrent configs for noise parameter, make it possible to have diffrent noise for diffrent configs \n",
    "            TODO: separate size from noise\n",
    "            TODO: move noise to higger level use case, and keep pop homogenous \n",
    "            TODO: setup dtype optimization for lower memory allocation  \n",
    "        \"\"\"\n",
    "\n",
    "        if noise is None:\n",
    "            return np.array(\n",
    "                (tau, resistor, threshhold, uRest), \n",
    "                dtype=[('tau', 'f2'), ('R', 'f2'), ('threshhold', 'f2'), ('u_rest', 'f2')]\n",
    "            )\n",
    "        \n",
    "        # noise generator from gussian normal distribution\n",
    "        n = lambda v: v + np.random.normal(noise.get('mu', 0), noise.get('sigma', 1), noise.get('size', 100))\n",
    "\n",
    "        return {\n",
    "            'tau': n(tau),\n",
    "            \"R\": n(resistor),\n",
    "            \"threshhold\": n(threshhold),\n",
    "            'u_rest': n(uRest)\n",
    "        }"
   ]
  },
  {
   "cell_type": "code",
   "execution_count": 20,
   "metadata": {},
   "outputs": [
    {
     "output_type": "execute_result",
     "data": {
      "text/plain": "array([(4.3  , 4.3  , 4.3  ), (5.34 , 5.34 , 5.34 ),\n       (3.404, 3.404, 3.404), (3.748, 3.748, 3.748),\n       (5.625, 5.625, 5.625), (5.207, 5.207, 5.207),\n       (4.613, 4.613, 4.613), (6.938, 6.938, 6.938),\n       (5.49 , 5.49 , 5.49 ), (4.598, 4.598, 4.598),\n       (5.797, 5.797, 5.797), (3.916, 3.916, 3.916),\n       (5.03 , 5.03 , 5.03 ), (5.156, 5.156, 5.156),\n       (4.508, 4.508, 4.508), (5.043, 5.043, 5.043),\n       (7.105, 7.105, 7.105), (4.996, 4.996, 4.996),\n       (4.97 , 4.97 , 4.97 ), (3.607, 3.607, 3.607),\n       (4.594, 4.594, 4.594), (4.35 , 4.35 , 4.35 ),\n       (5.4  , 5.4  , 5.4  ), (6.53 , 6.53 , 6.53 ),\n       (5.555, 5.555, 5.555), (3.646, 3.646, 3.646),\n       (3.492, 3.492, 3.492), (4.996, 4.996, 4.996),\n       (4.96 , 4.96 , 4.96 ), (6.47 , 6.47 , 6.47 ),\n       (5.703, 5.703, 5.703), (6.273, 6.273, 6.273),\n       (5.164, 5.164, 5.164), (5.33 , 5.33 , 5.33 ),\n       (4.445, 4.445, 4.445), (4.605, 4.605, 4.605),\n       (4.93 , 4.93 , 4.93 ), (5.45 , 5.45 , 5.45 ),\n       (3.533, 3.533, 3.533), (4.68 , 4.68 , 4.68 ),\n       (6.26 , 6.26 , 6.26 ), (4.383, 4.383, 4.383),\n       (4.96 , 4.96 , 4.96 ), (4.023, 4.023, 4.023),\n       (6.543, 6.543, 6.543), (5.34 , 5.34 , 5.34 ),\n       (5.523, 5.523, 5.523), (4.54 , 4.54 , 4.54 ),\n       (5.215, 5.215, 5.215), (5.617, 5.617, 5.617),\n       (5.71 , 5.71 , 5.71 ), (4.586, 4.586, 4.586),\n       (3.693, 3.693, 3.693), (5.883, 5.883, 5.883),\n       (3.928, 3.928, 3.928), (4.83 , 4.83 , 4.83 ),\n       (6.695, 6.695, 6.695), (4.594, 4.594, 4.594),\n       (5.766, 5.766, 5.766), (3.438, 3.438, 3.438),\n       (4.36 , 4.36 , 4.36 ), (5.383, 5.383, 5.383),\n       (6.03 , 6.03 , 6.03 ), (5.78 , 5.78 , 5.78 ),\n       (7.098, 7.098, 7.098), (5.05 , 5.05 , 5.05 ),\n       (6.38 , 6.38 , 6.38 ), (4.004, 4.004, 4.004),\n       (6.438, 6.438, 6.438), (5.37 , 5.37 , 5.37 ),\n       (6.094, 6.094, 6.094), (3.137, 3.137, 3.137),\n       (5.406, 5.406, 5.406), (3.74 , 3.74 , 3.74 ),\n       (4.617, 4.617, 4.617), (4.96 , 4.96 , 4.96 ),\n       (5.996, 5.996, 5.996), (3.3  , 3.3  , 3.3  ),\n       (5.426, 5.426, 5.426), (4.74 , 4.74 , 4.74 ),\n       (5.895, 5.895, 5.895), (7.605, 7.605, 7.605),\n       (5.066, 5.066, 5.066), (4.64 , 4.64 , 4.64 ),\n       (4.66 , 4.66 , 4.66 ), (4.45 , 4.45 , 4.45 ),\n       (4.15 , 4.15 , 4.15 ), (5.617, 5.617, 5.617),\n       (4.816, 4.816, 4.816), (6.344, 6.344, 6.344),\n       (5.26 , 5.26 , 5.26 ), (3.895, 3.895, 3.895),\n       (4.438, 4.438, 4.438), (5.74 , 5.74 , 5.74 ),\n       (4.82 , 4.82 , 4.82 ), (5.055, 5.055, 5.055),\n       (5.207, 5.207, 5.207), (4.793, 4.793, 4.793),\n       (5.9  , 5.9  , 5.9  ), (3.44 , 3.44 , 3.44 ),\n       (5.156, 5.156, 5.156), (5.16 , 5.16 , 5.16 ),\n       (3.994, 3.994, 3.994), (1.874, 1.874, 1.874),\n       (3.58 , 3.58 , 3.58 ), (4.85 , 4.85 , 4.85 ),\n       (5.254, 5.254, 5.254), (5.45 , 5.45 , 5.45 ),\n       (4.24 , 4.24 , 4.24 ), (3.941, 3.941, 3.941),\n       (5.086, 5.086, 5.086), (5.035, 5.035, 5.035),\n       (3.955, 3.955, 3.955), (3.295, 3.295, 3.295),\n       (4.645, 4.645, 4.645), (5.08 , 5.08 , 5.08 ),\n       (4.617, 4.617, 4.617), (4.72 , 4.72 , 4.72 ),\n       (3.615, 3.615, 3.615), (5.426, 5.426, 5.426),\n       (3.402, 3.402, 3.402), (5.336, 5.336, 5.336),\n       (4.836, 4.836, 4.836), (5.12 , 5.12 , 5.12 ),\n       (5.9  , 5.9  , 5.9  ), (5.83 , 5.83 , 5.83 ),\n       (5.45 , 5.45 , 5.45 ), (6.707, 6.707, 6.707),\n       (6.836, 6.836, 6.836), (3.402, 3.402, 3.402),\n       (5.516, 5.516, 5.516), (3.367, 3.367, 3.367),\n       (5.184, 5.184, 5.184), (5.742, 5.742, 5.742),\n       (5.156, 5.156, 5.156), (5.668, 5.668, 5.668),\n       (3.873, 3.873, 3.873), (4.367, 4.367, 4.367),\n       (4.043, 4.043, 4.043), (4.5  , 4.5  , 4.5  ),\n       (5.723, 5.723, 5.723), (5.613, 5.613, 5.613),\n       (4.4  , 4.4  , 4.4  ), (4.67 , 4.67 , 4.67 ),\n       (4.625, 4.625, 4.625), (7.344, 7.344, 7.344),\n       (5.473, 5.473, 5.473), (5.61 , 5.61 , 5.61 ),\n       (4.312, 4.312, 4.312), (4.344, 4.344, 4.344),\n       (6.47 , 6.47 , 6.47 ), (4.36 , 4.36 , 4.36 ),\n       (5.566, 5.566, 5.566), (5.258, 5.258, 5.258),\n       (6.28 , 6.28 , 6.28 ), (4.4  , 4.4  , 4.4  ),\n       (3.285, 3.285, 3.285), (5.93 , 5.93 , 5.93 ),\n       (4.176, 4.176, 4.176), (4.34 , 4.34 , 4.34 ),\n       (6.04 , 6.04 , 6.04 ), (3.488, 3.488, 3.488),\n       (3.172, 3.172, 3.172), (3.996, 3.996, 3.996),\n       (4.625, 4.625, 4.625), (5.414, 5.414, 5.414),\n       (5.85 , 5.85 , 5.85 ), (4.555, 4.555, 4.555),\n       (5.207, 5.207, 5.207), (6.617, 6.617, 6.617),\n       (6.527, 6.527, 6.527), (4.46 , 4.46 , 4.46 ),\n       (5.188, 5.188, 5.188), (5.977, 5.977, 5.977),\n       (4.445, 4.445, 4.445), (4.188, 4.188, 4.188),\n       (6.33 , 6.33 , 6.33 ), (5.55 , 5.55 , 5.55 ),\n       (4.598, 4.598, 4.598), (4.65 , 4.65 , 4.65 ),\n       (5.2  , 5.2  , 5.2  ), (3.762, 3.762, 3.762),\n       (5.973, 5.973, 5.973), (5.383, 5.383, 5.383),\n       (4.57 , 4.57 , 4.57 ), (6.273, 6.273, 6.273),\n       (4.516, 4.516, 4.516), (4.453, 4.453, 4.453),\n       (5.363, 5.363, 5.363), (5.156, 5.156, 5.156),\n       (5.21 , 5.21 , 5.21 ), (4.93 , 4.93 , 4.93 ),\n       (4.973, 4.973, 4.973), (4.184, 4.184, 4.184),\n       (6.344, 6.344, 6.344), (5.33 , 5.33 , 5.33 ),\n       (6.645, 6.645, 6.645), (3.516, 3.516, 3.516),\n       (4.703, 4.703, 4.703), (6.613, 6.613, 6.613),\n       (3.791, 3.791, 3.791), (4.992, 4.992, 4.992),\n       (4.055, 4.055, 4.055), (5.465, 5.465, 5.465),\n       (5.285, 5.285, 5.285), (4.492, 4.492, 4.492),\n       (6.977, 6.977, 6.977), (5.08 , 5.08 , 5.08 ),\n       (5.723, 5.723, 5.723), (4.914, 4.914, 4.914),\n       (3.955, 3.955, 3.955), (3.926, 3.926, 3.926),\n       (4.266, 4.266, 4.266), (4.355, 4.355, 4.355),\n       (4.79 , 4.79 , 4.79 ), (4.832, 4.832, 4.832),\n       (5.816, 5.816, 5.816), (4.793, 4.793, 4.793),\n       (4.043, 4.043, 4.043), (6.188, 6.188, 6.188),\n       (4.39 , 4.39 , 4.39 ), (5.047, 5.047, 5.047),\n       (4.76 , 4.76 , 4.76 ), (6.934, 6.934, 6.934),\n       (3.533, 3.533, 3.533), (5.066, 5.066, 5.066),\n       (6.64 , 6.64 , 6.64 ), (5.887, 5.887, 5.887),\n       (5.3  , 5.3  , 5.3  ), (5.965, 5.965, 5.965),\n       (4.254, 4.254, 4.254), (4.656, 4.656, 4.656),\n       (4.484, 4.484, 4.484), (4.2  , 4.2  , 4.2  ),\n       (5.227, 5.227, 5.227), (5.79 , 5.79 , 5.79 ),\n       (4.746, 4.746, 4.746), (3.47 , 3.47 , 3.47 ),\n       (5.03 , 5.03 , 5.03 ), (6.312, 6.312, 6.312),\n       (4.574, 4.574, 4.574), (5.645, 5.645, 5.645),\n       (4.715, 4.715, 4.715), (3.38 , 3.38 , 3.38 ),\n       (5.324, 5.324, 5.324), (5.945, 5.945, 5.945),\n       (5.902, 5.902, 5.902), (6.918, 6.918, 6.918),\n       (5.305, 5.305, 5.305), (4.113, 4.113, 4.113),\n       (4.1  , 4.1  , 4.1  ), (6.715, 6.715, 6.715),\n       (5.406, 5.406, 5.406), (4.562, 4.562, 4.562),\n       (3.746, 3.746, 3.746), (5.08 , 5.08 , 5.08 ),\n       (4.523, 4.523, 4.523), (6.402, 6.402, 6.402),\n       (5.38 , 5.38 , 5.38 ), (4.14 , 4.14 , 4.14 ),\n       (6.35 , 6.35 , 6.35 ), (5.086, 5.086, 5.086),\n       (4.684, 4.684, 4.684), (6.27 , 6.27 , 6.27 ),\n       (4.688, 4.688, 4.688), (6.168, 6.168, 6.168),\n       (4.875, 4.875, 4.875), (3.076, 3.076, 3.076),\n       (6.848, 6.848, 6.848), (3.49 , 3.49 , 3.49 ),\n       (5.742, 5.742, 5.742), (5.05 , 5.05 , 5.05 ),\n       (5.516, 5.516, 5.516), (4.492, 4.492, 4.492),\n       (5.68 , 5.68 , 5.68 ), (5.1  , 5.1  , 5.1  ),\n       (2.797, 2.797, 2.797), (4.438, 4.438, 4.438),\n       (4.996, 4.996, 4.996), (4.035, 4.035, 4.035),\n       (3.887, 3.887, 3.887), (3.568, 3.568, 3.568),\n       (7.215, 7.215, 7.215), (7.438, 7.438, 7.438),\n       (3.516, 3.516, 3.516), (5.8  , 5.8  , 5.8  ),\n       (4.043, 4.043, 4.043), (5.945, 5.945, 5.945),\n       (6.49 , 6.49 , 6.49 ), (5.387, 5.387, 5.387),\n       (4.82 , 4.82 , 4.82 ), (6.105, 6.105, 6.105),\n       (2.312, 2.312, 2.312), (4.23 , 4.23 , 4.23 ),\n       (4.21 , 4.21 , 4.21 ), (6.53 , 6.53 , 6.53 ),\n       (5.29 , 5.29 , 5.29 ), (6.027, 6.027, 6.027),\n       (4.594, 4.594, 4.594), (4.582, 4.582, 4.582)],\n      dtype=[('tau', '<f2'), ('R', '<f2'), ('threshold', '<f2')])"
     },
     "metadata": {},
     "execution_count": 20
    }
   ],
   "source": [
    "n = lambda x: 5 + np.random.normal(0, 1, 100) \n",
    "np.array(np.concatenate((n(9),n(1), n(3))),dtype=[('tau', 'f2'), ('R', 'f2'), ('threshold', 'f2')])"
   ]
  },
  {
   "cell_type": "code",
   "execution_count": 32,
   "metadata": {},
   "outputs": [],
   "source": [
    "class Utils:\n",
    "    @staticmethod\n",
    "    def clamp(value, bound=None):\n",
    "        \"\"\"\n",
    "            Clamp entry value between specified bound, no clamp will be done if bound is not specifeid\n",
    "            Cause numpy brodcasting ability, functions may work correct for single entry for ndarrays\n",
    "\n",
    "            Keyword arguments:\n",
    "            value -- Values which gonna be clamped <numpy.ndarray>\n",
    "            bound -- A tuple or an array contains lower, and upper bound [lower, upper] \n",
    "                     if bound length is less than 2 or no bound is specified no clamp will be applyed (default=None) \n",
    "            \n",
    "            return: clampedValue\n",
    "\n",
    "            TODO: accpet None as argument for skip min or max clamping\n",
    "        \"\"\"\n",
    "        if (bound is None and len(bound) < 2):\n",
    "            return w\n",
    "        return np.min(bound[1], np.max(bound[0], value))"
   ]
  },
  {
   "cell_type": "code",
   "execution_count": 6,
   "metadata": {},
   "outputs": [],
   "source": [
    "class Connection:\n",
    "    \"\"\" Connect population A to population B with connection_type strategy\n",
    "valid connection_types\n",
    "    'full' for  full_connectivity,\n",
    "    'fixedCP' for fixed_coupling_probability_connectivity,\n",
    "    'fixedNPP' for fixed_number_of_presynaptics_parents,\n",
    "\n",
    "For illiminate performance issue it doesn't connect neurons until calling @method for comp\n",
    "\"\"\"\n",
    "    def __init__(self, A, B, connection_type, **configs):\n",
    "        \"\"\" connect A population to B population with input connection_type \"\"\"\n",
    "        self.pre = A.neurons\n",
    "        self.post = B.neurons\n",
    "        self.relations = []\n",
    "        connect = {\n",
    "            'full': Connection.full_connectivity,\n",
    "            'fixedCP': Connection.fixed_coupling_probability_connectivity,\n",
    "            'fixedNPP': Connection.fixed_number_of_presynaptics_parents,\n",
    "        }.get(connection_type, fixedCP)\n",
    "\n",
    "        connect(self.pre, self.post, **configs)\n",
    "\n",
    "    @staticmethod\n",
    "    def full_connectivity(A, B, p=0.1, J0=10, r0=1): \n",
    "        C = p * len(A) # p * N\n",
    "        μ, σ = J0/C, r0/math.sqrt(C)\n",
    "        normal = np.random.normal\n",
    "\n",
    "        for pre in A:\n",
    "            for post in B:\n",
    "                relations.append([pre, post, normal(μ, σ)])\n",
    "    \n",
    "    @staticmethod\n",
    "    def fixed_coupling_probability_connectivity(A, B, p=0.1, J0=10, r0=1): \n",
    "        \"\"\" p := coupling_probability \"\"\"\n",
    "        CA_size = int(p * len(A))\n",
    "        CB_size = int(p * len(B))\n",
    "        μ, σ = J0/CB_size, r0/math.sqrt(CB_size)\n",
    "        normal = np.random.normal\n",
    "\n",
    "        for pre in np.random.choice(A, CA_size, replace=False):\n",
    "            for post in np.random.choice(B, CB_size, replace=False):\n",
    "                relations.append([pre, post, normal(μ, σ)])\n",
    "\n",
    "    \n",
    "    @staticmethod\n",
    "    def fixed_number_of_presynaptics_parents(A, B, p=0.1, J0=10, r0=1): \n",
    "        C = int(p * len(A))\n",
    "        μ, σ = J0/C, r0/math.sqrt(C)\n",
    "        normal = np.random.normal\n",
    "        \n",
    "        for post in B:\n",
    "            for pre in np.random.choice(A, C, replace=False):\n",
    "                relations.append([pre, post, normal(μ, σ)])\n",
    "\n",
    "    def update():\n",
    "        \"\"\" \n",
    "            For every post of spiked neuron you should update Ii \n",
    "            For stdp learning it should update Ws\n",
    "        \"\"\"\n",
    "        pass"
   ]
  },
  {
   "cell_type": "code",
   "execution_count": 14,
   "metadata": {},
   "outputs": [],
   "source": [
    "class Layer:\n",
    "    def __init__(self, *args):\n",
    "        self.__iterators = args\n",
    "\n",
    "    def foreach(self, fn):\n",
    "        for items in self.__iterators:\n",
    "            fn(items)"
   ]
  },
  {
   "cell_type": "code",
   "execution_count": 15,
   "metadata": {},
   "outputs": [
    {
     "output_type": "stream",
     "name": "stdout",
     "text": "25\n36\n49\n"
    }
   ],
   "source": [
    "a = Layer(5, 6, 7)\n",
    "a.foreach(lambda x: print(x**2))"
   ]
  },
  {
   "cell_type": "code",
   "execution_count": null,
   "metadata": {},
   "outputs": [],
   "source": [
    "def get_homogenous_group():\n",
    "    pass"
   ]
  },
  {
   "cell_type": "code",
   "execution_count": 2,
   "metadata": {},
   "outputs": [],
   "source": [
    "# TODO: seems not to be needed any more\n",
    "def clamp(w, bound=None):\n",
    "    if (bound is None and len(bound) != 2):\n",
    "        return w\n",
    "    # bound[0] <= w <= bound[1]\n",
    "    return min(bound[1], max(bound[0], w))\n",
    "\n",
    "# TODO: hard code configs and will change soon!\n",
    "W_MAX = 1\n",
    "ηn = 0.0265625\n",
    "ηp = 0.03125 \n",
    "def soft_bound_Ap(w, w_max=W_MAX, nu_positive=ηp):    \n",
    "    return (w_max - w) * nu_positive\n",
    "\n",
    "def soft_bound_An(w, nu_negative=ηn):\n",
    "    return w * nu_negative\n",
    "\n",
    "class Learning:\n",
    "    @staticmethod\n",
    "    def stdp(w, t_pre, t_post, **config):\n",
    "        # TODO: Performace boost can be added make it classmethod or normal method\n",
    "        # deafult values\n",
    "        Ap    = config.get('Ap', soft_bound_Ap)\n",
    "        An     = config.get('An', soft_bound_An)\n",
    "        taup  = config.get('taup', 0.0337)\n",
    "        taun   = config.get('taun', 0.0168)\n",
    "        \n",
    "        Δt =  t_post - t_pre\n",
    "        if (Δt >= 0):\n",
    "            Δw =  Ap(w) * np.exp(-abs(Δt) / taup)    \n",
    "        else:\n",
    "            Δw =  An(w) * np.exp(-abs(Δt) / taun)\n",
    "        return Δw, Δt"
   ]
  },
  {
   "cell_type": "code",
   "execution_count": 166,
   "metadata": {},
   "outputs": [],
   "source": [
    "def gauss(mu, sigma):\n",
    "    def _gauss(value):\n",
    "        return value + random.gauss(mu, sigma)\n",
    "    return _gauss\n",
    "\n",
    "class Configuration:\n",
    "    # μ = 0\n",
    "    # σ = 1\n",
    "    @staticmethod\n",
    "    def lif_config_generator(tau=5, resistor=5, threshold=-65, uRest=-70, noise=None):\n",
    "        \"\"\" return generated \"\"\"\n",
    "        # TODO: hardcoded generators \n",
    "        if noise is None:\n",
    "            return np.array(\n",
    "                (tau, resistor, threshold, uRest), \n",
    "                dtype=[('tau', 'f2'), ('R', 'f2'), ('threshold', 'f2'), ('uRest', 'f2')]\n",
    "            )\n",
    "        n = gauss(noise['mu'], noise['sigma'])\n",
    "        return np.fromiter(\n",
    "                ((n(tau), n(resistor), n(threshold), n(uRest)) for _ in range(noise['size'])),\n",
    "                dtype=[('tau', 'f2'), ('R', 'f2'), ('threshold', 'f2'), ('uRest', 'f2')]\n",
    "                )"
   ]
  },
  {
   "cell_type": "code",
   "execution_count": 167,
   "metadata": {},
   "outputs": [],
   "source": [
    "x = Configuration.lif_config_generator()"
   ]
  },
  {
   "cell_type": "code",
   "execution_count": 66,
   "metadata": {},
   "outputs": [],
   "source": [
    "class Population:\n",
    "    \"\"\" Gonna Handle homogenous population \"\"\"\n",
    "    def __init__(self, neuron, config_generator ,**configs):\n",
    "        dt = configs.get('time_step', 0.1) \n",
    "        duration = configs.get('duration', 5)        \n",
    "        self.time_series = np.arange(0,duration,dt)\n",
    "        self.size = configs.get('size', 1000)\n",
    "\n",
    "        self.potentials_series = np.empty((self.size, self.time_series.size))\n",
    "        # Neurons (homogenous)\n",
    "        self.neuron_configs = Configuration.\n",
    "        # initialize neurons potentials\n",
    "        self.potentials_series[:, 0] = self.neuron_configs['u_rest']\n",
    "\n",
    "    def yeChizi(self):\n",
    "        pass\n",
    "    \n",
    "    def activate(self, t):\n",
    "        \"\"\" Activate a population \"\"\"\n",
    "        assert 1 <= t < self.time_series.size, 'Please Enter an integer belongs to [0, duration/dt) range as an index.'\n",
    "        # TODO: need I_ext calculation from static fixed I ~ N(μ, σ), or separated for each individual\n",
    "        IextPlusIi = 35\n",
    "        integration_fn = Neuron.integrate\n",
    "        integration_fn(self.potentials_series[:, t-1], IextPlusIi, allNeuronsConfigs)\n",
    "        potentials = np.fromiter(\n",
    "            (n.integrate(IextPlusIi) for (index, n) in enumerate(self.neurons)),\n",
    "            np.dtype([('u', 'f'), ('spiked','?')])\n",
    "        )\n",
    "        self.potentials_series[:, t] = potentials['u']\n",
    "        # update interanl I for neurons has spiked in very last time potentials['spiked']\n",
    "        return potentials"
   ]
  },
  {
   "cell_type": "code",
   "execution_count": 67,
   "metadata": {},
   "outputs": [],
   "source": [
    "dt = 0.1\n",
    "cgen_i = Configuration.lif_config_generator(dt, True)\n",
    "cgen_e = Configuration.lif_config_generator(dt, False)\n",
    "\n",
    "pop_excitatory = Population(Neuron, cgen_e, size=80)\n",
    "pop_inhibitory = Population(Neuron, cgen_i, size=20)\n"
   ]
  },
  {
   "cell_type": "code",
   "execution_count": 68,
   "metadata": {},
   "outputs": [
    {
     "output_type": "execute_result",
     "data": {
      "text/plain": "array([[-70.,   0.,   0., ...,   0.,   0.,   0.],\n       [-70.,   0.,   0., ...,   0.,   0.,   0.],\n       [-70.,   0.,   0., ...,   0.,   0.,   0.],\n       ...,\n       [-70.,   0.,   0., ...,   0.,   0.,   0.],\n       [-70.,   0.,   0., ...,   0.,   0.,   0.],\n       [-70.,   0.,   0., ...,   0.,   0.,   0.]])"
     },
     "metadata": {},
     "execution_count": 68
    }
   ],
   "source": [
    "pop_excitatory.activate(0)"
   ]
  },
  {
   "cell_type": "markdown",
   "metadata": {},
   "source": [
    "## First Question\n",
    "Unsupervised STDP learning for two nuerons and show w updates"
   ]
  },
  {
   "cell_type": "code",
   "execution_count": 46,
   "metadata": {},
   "outputs": [],
   "source": [
    "# TODO: Hard Code dt change this in next session\n",
    "dt = 0.1\n",
    "lif_config = Configuration.lif_static_config()\n",
    "pre = Neuron(lif_config(**{\n",
    "                \"tau\" :5, \n",
    "                \"resistor\": 5,\n",
    "                \"threshold\": -65,\n",
    "                \"uRest\": -70,\n",
    "                \"dt\": dt, \n",
    "                \"isInhibitory\": False\n",
    "            }))\n",
    "post = Neuron(lif_config(**{\n",
    "                \"tau\" :5, \n",
    "                \"resistor\": 5,\n",
    "                \"threshold\": -65,\n",
    "                \"uRest\": -70,\n",
    "                \"dt\": dt, \n",
    "                \"isInhibitory\": False\n",
    "            }))"
   ]
  },
  {
   "cell_type": "code",
   "execution_count": null,
   "metadata": {},
   "outputs": [],
   "source": [
    "#   @staticmethod\n",
    "#     def normal(mu=0, sigma=1, size=None):\n",
    "#         \"\"\"\n",
    "#             generate Random random distribution number around spcific value\n",
    "            \n",
    "#             Keyword arguments:\n",
    "#             mu -- Mean (“centre”) of the distribution. <float>\n",
    "#             sigma -- Standard deviation (spread or “width”) of the distribution. Must be non-negative. <float>\n",
    "#             size -- <int> \n",
    "\n",
    "#             return: clampedValue\n",
    "\n",
    "#             TODO: accpet None as argument for skip min or max clamping\n",
    "#         \"\"\"\n",
    "        \n",
    "#         def __gaussian_normal(value):\n",
    "#             return value + np.random.normal(mu, sigma, size) \n",
    "#         return __gaussian_normal\n",
    "\n",
    "\n",
    "    # def updateIinput():\n",
    "    #     pass\n",
    "\n",
    "    # update Ii\n",
    "    # Handle for synapse in self.posts:\n",
    "    #     synapse.neuron.input += pow(-1,self.isi) * synapse.w * (self.θ - self.u_rest)"
   ]
  },
  {
   "cell_type": "code",
   "execution_count": 71,
   "metadata": {},
   "outputs": [
    {
     "output_type": "stream",
     "name": "stdout",
     "text": "PRE  False\nPOST False\nPRE  False\nPOST False\nPRE  False\nPOST False\nPRE  True\nPOST True\nPRE  False\nPOST False\nPRE  False\nPOST False\nPRE  False\nPOST False\nPRE  True\nPOST True\nPRE  False\nPOST False\nPRE  False\nPOST False\nPRE  False\nPOST False\nPRE  True\nPOST True\nPRE  False\nPOST False\nPRE  False\nPOST False\nPRE  False\nPOST False\nPRE  True\nPOST True\nPRE  False\nPOST False\nPRE  False\nPOST False\nPRE  False\nPOST False\nPRE  True\nPOST True\nPRE  False\nPOST False\nPRE  False\nPOST False\nPRE  False\nPOST False\nPRE  True\nPOST True\nPRE  False\nPOST False\nPRE  False\nPOST False\nPRE  False\nPOST False\nPRE  True\nPOST True\nPRE  False\nPOST False\nPRE  False\nPOST False\nPRE  False\nPOST False\nPRE  True\nPOST True\nPRE  False\nPOST False\nPRE  False\nPOST False\nPRE  False\nPOST False\nPRE  True\nPOST True\nPRE  False\nPOST False\nPRE  False\nPOST False\nPRE  False\nPOST False\nPRE  True\nPOST True\nPRE  False\nPOST False\nPRE  False\nPOST False\nPRE  False\nPOST False\nPRE  True\nPOST True\nPRE  False\nPOST False\nPRE  False\nPOST False\nPRE  False\nPOST False\nPRE  True\nPOST True\nPRE  False\nPOST False\nPRE  False\nPOST False\nPRE  False\nPOST False\nPRE  True\nPOST True\nPRE  False\nPOST False\nPRE  False\nPOST False\nPRE  False\nPOST False\nPRE  True\nPOST True\nPRE  False\nPOST False\nPRE  False\nPOST False\nPRE  False\nPOST False\nPRE  True\nPOST True\nPRE  False\nPOST False\nPRE  False\nPOST False\nPRE  False\nPOST False\nPRE  True\nPOST True\nPRE  False\nPOST False\nPRE  False\nPOST False\nPRE  False\nPOST False\nPRE  True\nPOST True\nPRE  False\nPOST False\nPRE  False\nPOST False\nPRE  False\nPOST False\nPRE  True\nPOST True\nPRE  False\nPOST False\nPRE  False\nPOST False\nPRE  False\nPOST False\nPRE  True\nPOST True\nPRE  False\nPOST False\nPRE  False\nPOST False\nPRE  False\nPOST False\nPRE  True\nPOST True\nPRE  False\nPOST False\nPRE  False\nPOST False\nPRE  False\nPOST False\nPRE  True\nPOST True\nPRE  False\nPOST False\nPRE  False\nPOST False\nPRE  False\nPOST False\nPRE  True\nPOST True\nPRE  False\nPOST False\nPRE  False\nPOST False\nPRE  False\nPOST False\nPRE  True\nPOST True\nPRE  False\nPOST False\nPRE  False\nPOST False\nPRE  False\nPOST False\nPRE  True\nPOST True\nPRE  False\nPOST False\nPRE  False\nPOST False\nPRE  False\nPOST False\nPRE  True\nPOST True\n"
    },
    {
     "output_type": "display_data",
     "data": {
      "text/plain": "<Figure size 432x288 with 1 Axes>",
      "image/svg+xml": "<?xml version=\"1.0\" encoding=\"utf-8\" standalone=\"no\"?>\r\n<!DOCTYPE svg PUBLIC \"-//W3C//DTD SVG 1.1//EN\"\r\n  \"http://www.w3.org/Graphics/SVG/1.1/DTD/svg11.dtd\">\r\n<!-- Created with matplotlib (https://matplotlib.org/) -->\r\n<svg height=\"248.518125pt\" version=\"1.1\" viewBox=\"0 0 368.925 248.518125\" width=\"368.925pt\" xmlns=\"http://www.w3.org/2000/svg\" xmlns:xlink=\"http://www.w3.org/1999/xlink\">\r\n <defs>\r\n  <style type=\"text/css\">\r\n*{stroke-linecap:butt;stroke-linejoin:round;}\r\n  </style>\r\n </defs>\r\n <g id=\"figure_1\">\r\n  <g id=\"patch_1\">\r\n   <path d=\"M -0 248.518125 \r\nL 368.925 248.518125 \r\nL 368.925 0 \r\nL -0 0 \r\nz\r\n\" style=\"fill:none;\"/>\r\n  </g>\r\n  <g id=\"axes_1\">\r\n   <g id=\"patch_2\">\r\n    <path d=\"M 26.925 224.64 \r\nL 361.725 224.64 \r\nL 361.725 7.2 \r\nL 26.925 7.2 \r\nz\r\n\" style=\"fill:#ffffff;\"/>\r\n   </g>\r\n   <g id=\"matplotlib.axis_1\">\r\n    <g id=\"xtick_1\">\r\n     <g id=\"line2d_1\">\r\n      <defs>\r\n       <path d=\"M 0 0 \r\nL 0 3.5 \r\n\" id=\"m006938254a\" style=\"stroke:#000000;stroke-width:0.8;\"/>\r\n      </defs>\r\n      <g>\r\n       <use style=\"stroke:#000000;stroke-width:0.8;\" x=\"42.143182\" xlink:href=\"#m006938254a\" y=\"224.64\"/>\r\n      </g>\r\n     </g>\r\n     <g id=\"text_1\">\r\n      <!-- 0 -->\r\n      <defs>\r\n       <path d=\"M 31.78125 66.40625 \r\nQ 24.171875 66.40625 20.328125 58.90625 \r\nQ 16.5 51.421875 16.5 36.375 \r\nQ 16.5 21.390625 20.328125 13.890625 \r\nQ 24.171875 6.390625 31.78125 6.390625 \r\nQ 39.453125 6.390625 43.28125 13.890625 \r\nQ 47.125 21.390625 47.125 36.375 \r\nQ 47.125 51.421875 43.28125 58.90625 \r\nQ 39.453125 66.40625 31.78125 66.40625 \r\nz\r\nM 31.78125 74.21875 \r\nQ 44.046875 74.21875 50.515625 64.515625 \r\nQ 56.984375 54.828125 56.984375 36.375 \r\nQ 56.984375 17.96875 50.515625 8.265625 \r\nQ 44.046875 -1.421875 31.78125 -1.421875 \r\nQ 19.53125 -1.421875 13.0625 8.265625 \r\nQ 6.59375 17.96875 6.59375 36.375 \r\nQ 6.59375 54.828125 13.0625 64.515625 \r\nQ 19.53125 74.21875 31.78125 74.21875 \r\nz\r\n\" id=\"DejaVuSans-48\"/>\r\n      </defs>\r\n      <g transform=\"translate(38.961932 239.238437)scale(0.1 -0.1)\">\r\n       <use xlink:href=\"#DejaVuSans-48\"/>\r\n      </g>\r\n     </g>\r\n    </g>\r\n    <g id=\"xtick_2\">\r\n     <g id=\"line2d_2\">\r\n      <g>\r\n       <use style=\"stroke:#000000;stroke-width:0.8;\" x=\"103.630785\" xlink:href=\"#m006938254a\" y=\"224.64\"/>\r\n      </g>\r\n     </g>\r\n     <g id=\"text_2\">\r\n      <!-- 20 -->\r\n      <defs>\r\n       <path d=\"M 19.1875 8.296875 \r\nL 53.609375 8.296875 \r\nL 53.609375 0 \r\nL 7.328125 0 \r\nL 7.328125 8.296875 \r\nQ 12.9375 14.109375 22.625 23.890625 \r\nQ 32.328125 33.6875 34.8125 36.53125 \r\nQ 39.546875 41.84375 41.421875 45.53125 \r\nQ 43.3125 49.21875 43.3125 52.78125 \r\nQ 43.3125 58.59375 39.234375 62.25 \r\nQ 35.15625 65.921875 28.609375 65.921875 \r\nQ 23.96875 65.921875 18.8125 64.3125 \r\nQ 13.671875 62.703125 7.8125 59.421875 \r\nL 7.8125 69.390625 \r\nQ 13.765625 71.78125 18.9375 73 \r\nQ 24.125 74.21875 28.421875 74.21875 \r\nQ 39.75 74.21875 46.484375 68.546875 \r\nQ 53.21875 62.890625 53.21875 53.421875 \r\nQ 53.21875 48.921875 51.53125 44.890625 \r\nQ 49.859375 40.875 45.40625 35.40625 \r\nQ 44.1875 33.984375 37.640625 27.21875 \r\nQ 31.109375 20.453125 19.1875 8.296875 \r\nz\r\n\" id=\"DejaVuSans-50\"/>\r\n      </defs>\r\n      <g transform=\"translate(97.268285 239.238437)scale(0.1 -0.1)\">\r\n       <use xlink:href=\"#DejaVuSans-50\"/>\r\n       <use x=\"63.623047\" xlink:href=\"#DejaVuSans-48\"/>\r\n      </g>\r\n     </g>\r\n    </g>\r\n    <g id=\"xtick_3\">\r\n     <g id=\"line2d_3\">\r\n      <g>\r\n       <use style=\"stroke:#000000;stroke-width:0.8;\" x=\"165.118388\" xlink:href=\"#m006938254a\" y=\"224.64\"/>\r\n      </g>\r\n     </g>\r\n     <g id=\"text_3\">\r\n      <!-- 40 -->\r\n      <defs>\r\n       <path d=\"M 37.796875 64.3125 \r\nL 12.890625 25.390625 \r\nL 37.796875 25.390625 \r\nz\r\nM 35.203125 72.90625 \r\nL 47.609375 72.90625 \r\nL 47.609375 25.390625 \r\nL 58.015625 25.390625 \r\nL 58.015625 17.1875 \r\nL 47.609375 17.1875 \r\nL 47.609375 0 \r\nL 37.796875 0 \r\nL 37.796875 17.1875 \r\nL 4.890625 17.1875 \r\nL 4.890625 26.703125 \r\nz\r\n\" id=\"DejaVuSans-52\"/>\r\n      </defs>\r\n      <g transform=\"translate(158.755888 239.238437)scale(0.1 -0.1)\">\r\n       <use xlink:href=\"#DejaVuSans-52\"/>\r\n       <use x=\"63.623047\" xlink:href=\"#DejaVuSans-48\"/>\r\n      </g>\r\n     </g>\r\n    </g>\r\n    <g id=\"xtick_4\">\r\n     <g id=\"line2d_4\">\r\n      <g>\r\n       <use style=\"stroke:#000000;stroke-width:0.8;\" x=\"226.605992\" xlink:href=\"#m006938254a\" y=\"224.64\"/>\r\n      </g>\r\n     </g>\r\n     <g id=\"text_4\">\r\n      <!-- 60 -->\r\n      <defs>\r\n       <path d=\"M 33.015625 40.375 \r\nQ 26.375 40.375 22.484375 35.828125 \r\nQ 18.609375 31.296875 18.609375 23.390625 \r\nQ 18.609375 15.53125 22.484375 10.953125 \r\nQ 26.375 6.390625 33.015625 6.390625 \r\nQ 39.65625 6.390625 43.53125 10.953125 \r\nQ 47.40625 15.53125 47.40625 23.390625 \r\nQ 47.40625 31.296875 43.53125 35.828125 \r\nQ 39.65625 40.375 33.015625 40.375 \r\nz\r\nM 52.59375 71.296875 \r\nL 52.59375 62.3125 \r\nQ 48.875 64.0625 45.09375 64.984375 \r\nQ 41.3125 65.921875 37.59375 65.921875 \r\nQ 27.828125 65.921875 22.671875 59.328125 \r\nQ 17.53125 52.734375 16.796875 39.40625 \r\nQ 19.671875 43.65625 24.015625 45.921875 \r\nQ 28.375 48.1875 33.59375 48.1875 \r\nQ 44.578125 48.1875 50.953125 41.515625 \r\nQ 57.328125 34.859375 57.328125 23.390625 \r\nQ 57.328125 12.15625 50.6875 5.359375 \r\nQ 44.046875 -1.421875 33.015625 -1.421875 \r\nQ 20.359375 -1.421875 13.671875 8.265625 \r\nQ 6.984375 17.96875 6.984375 36.375 \r\nQ 6.984375 53.65625 15.1875 63.9375 \r\nQ 23.390625 74.21875 37.203125 74.21875 \r\nQ 40.921875 74.21875 44.703125 73.484375 \r\nQ 48.484375 72.75 52.59375 71.296875 \r\nz\r\n\" id=\"DejaVuSans-54\"/>\r\n      </defs>\r\n      <g transform=\"translate(220.243492 239.238437)scale(0.1 -0.1)\">\r\n       <use xlink:href=\"#DejaVuSans-54\"/>\r\n       <use x=\"63.623047\" xlink:href=\"#DejaVuSans-48\"/>\r\n      </g>\r\n     </g>\r\n    </g>\r\n    <g id=\"xtick_5\">\r\n     <g id=\"line2d_5\">\r\n      <g>\r\n       <use style=\"stroke:#000000;stroke-width:0.8;\" x=\"288.093595\" xlink:href=\"#m006938254a\" y=\"224.64\"/>\r\n      </g>\r\n     </g>\r\n     <g id=\"text_5\">\r\n      <!-- 80 -->\r\n      <defs>\r\n       <path d=\"M 31.78125 34.625 \r\nQ 24.75 34.625 20.71875 30.859375 \r\nQ 16.703125 27.09375 16.703125 20.515625 \r\nQ 16.703125 13.921875 20.71875 10.15625 \r\nQ 24.75 6.390625 31.78125 6.390625 \r\nQ 38.8125 6.390625 42.859375 10.171875 \r\nQ 46.921875 13.96875 46.921875 20.515625 \r\nQ 46.921875 27.09375 42.890625 30.859375 \r\nQ 38.875 34.625 31.78125 34.625 \r\nz\r\nM 21.921875 38.8125 \r\nQ 15.578125 40.375 12.03125 44.71875 \r\nQ 8.5 49.078125 8.5 55.328125 \r\nQ 8.5 64.0625 14.71875 69.140625 \r\nQ 20.953125 74.21875 31.78125 74.21875 \r\nQ 42.671875 74.21875 48.875 69.140625 \r\nQ 55.078125 64.0625 55.078125 55.328125 \r\nQ 55.078125 49.078125 51.53125 44.71875 \r\nQ 48 40.375 41.703125 38.8125 \r\nQ 48.828125 37.15625 52.796875 32.3125 \r\nQ 56.78125 27.484375 56.78125 20.515625 \r\nQ 56.78125 9.90625 50.3125 4.234375 \r\nQ 43.84375 -1.421875 31.78125 -1.421875 \r\nQ 19.734375 -1.421875 13.25 4.234375 \r\nQ 6.78125 9.90625 6.78125 20.515625 \r\nQ 6.78125 27.484375 10.78125 32.3125 \r\nQ 14.796875 37.15625 21.921875 38.8125 \r\nz\r\nM 18.3125 54.390625 \r\nQ 18.3125 48.734375 21.84375 45.5625 \r\nQ 25.390625 42.390625 31.78125 42.390625 \r\nQ 38.140625 42.390625 41.71875 45.5625 \r\nQ 45.3125 48.734375 45.3125 54.390625 \r\nQ 45.3125 60.0625 41.71875 63.234375 \r\nQ 38.140625 66.40625 31.78125 66.40625 \r\nQ 25.390625 66.40625 21.84375 63.234375 \r\nQ 18.3125 60.0625 18.3125 54.390625 \r\nz\r\n\" id=\"DejaVuSans-56\"/>\r\n      </defs>\r\n      <g transform=\"translate(281.731095 239.238437)scale(0.1 -0.1)\">\r\n       <use xlink:href=\"#DejaVuSans-56\"/>\r\n       <use x=\"63.623047\" xlink:href=\"#DejaVuSans-48\"/>\r\n      </g>\r\n     </g>\r\n    </g>\r\n    <g id=\"xtick_6\">\r\n     <g id=\"line2d_6\">\r\n      <g>\r\n       <use style=\"stroke:#000000;stroke-width:0.8;\" x=\"349.581198\" xlink:href=\"#m006938254a\" y=\"224.64\"/>\r\n      </g>\r\n     </g>\r\n     <g id=\"text_6\">\r\n      <!-- 100 -->\r\n      <defs>\r\n       <path d=\"M 12.40625 8.296875 \r\nL 28.515625 8.296875 \r\nL 28.515625 63.921875 \r\nL 10.984375 60.40625 \r\nL 10.984375 69.390625 \r\nL 28.421875 72.90625 \r\nL 38.28125 72.90625 \r\nL 38.28125 8.296875 \r\nL 54.390625 8.296875 \r\nL 54.390625 0 \r\nL 12.40625 0 \r\nz\r\n\" id=\"DejaVuSans-49\"/>\r\n      </defs>\r\n      <g transform=\"translate(340.037448 239.238437)scale(0.1 -0.1)\">\r\n       <use xlink:href=\"#DejaVuSans-49\"/>\r\n       <use x=\"63.623047\" xlink:href=\"#DejaVuSans-48\"/>\r\n       <use x=\"127.246094\" xlink:href=\"#DejaVuSans-48\"/>\r\n      </g>\r\n     </g>\r\n    </g>\r\n   </g>\r\n   <g id=\"matplotlib.axis_2\">\r\n    <g id=\"ytick_1\">\r\n     <g id=\"line2d_7\">\r\n      <defs>\r\n       <path d=\"M 0 0 \r\nL -3.5 0 \r\n\" id=\"me3de2e8481\" style=\"stroke:#000000;stroke-width:0.8;\"/>\r\n      </defs>\r\n      <g>\r\n       <use style=\"stroke:#000000;stroke-width:0.8;\" x=\"26.925\" xlink:href=\"#me3de2e8481\" y=\"214.928853\"/>\r\n      </g>\r\n     </g>\r\n     <g id=\"text_7\">\r\n      <!-- 10 -->\r\n      <g transform=\"translate(7.2 218.728072)scale(0.1 -0.1)\">\r\n       <use xlink:href=\"#DejaVuSans-49\"/>\r\n       <use x=\"63.623047\" xlink:href=\"#DejaVuSans-48\"/>\r\n      </g>\r\n     </g>\r\n    </g>\r\n    <g id=\"ytick_2\">\r\n     <g id=\"line2d_8\">\r\n      <g>\r\n       <use style=\"stroke:#000000;stroke-width:0.8;\" x=\"26.925\" xlink:href=\"#me3de2e8481\" y=\"175.358049\"/>\r\n      </g>\r\n     </g>\r\n     <g id=\"text_8\">\r\n      <!-- 12 -->\r\n      <g transform=\"translate(7.2 179.157268)scale(0.1 -0.1)\">\r\n       <use xlink:href=\"#DejaVuSans-49\"/>\r\n       <use x=\"63.623047\" xlink:href=\"#DejaVuSans-50\"/>\r\n      </g>\r\n     </g>\r\n    </g>\r\n    <g id=\"ytick_3\">\r\n     <g id=\"line2d_9\">\r\n      <g>\r\n       <use style=\"stroke:#000000;stroke-width:0.8;\" x=\"26.925\" xlink:href=\"#me3de2e8481\" y=\"135.787246\"/>\r\n      </g>\r\n     </g>\r\n     <g id=\"text_9\">\r\n      <!-- 14 -->\r\n      <g transform=\"translate(7.2 139.586464)scale(0.1 -0.1)\">\r\n       <use xlink:href=\"#DejaVuSans-49\"/>\r\n       <use x=\"63.623047\" xlink:href=\"#DejaVuSans-52\"/>\r\n      </g>\r\n     </g>\r\n    </g>\r\n    <g id=\"ytick_4\">\r\n     <g id=\"line2d_10\">\r\n      <g>\r\n       <use style=\"stroke:#000000;stroke-width:0.8;\" x=\"26.925\" xlink:href=\"#me3de2e8481\" y=\"96.216442\"/>\r\n      </g>\r\n     </g>\r\n     <g id=\"text_10\">\r\n      <!-- 16 -->\r\n      <g transform=\"translate(7.2 100.015661)scale(0.1 -0.1)\">\r\n       <use xlink:href=\"#DejaVuSans-49\"/>\r\n       <use x=\"63.623047\" xlink:href=\"#DejaVuSans-54\"/>\r\n      </g>\r\n     </g>\r\n    </g>\r\n    <g id=\"ytick_5\">\r\n     <g id=\"line2d_11\">\r\n      <g>\r\n       <use style=\"stroke:#000000;stroke-width:0.8;\" x=\"26.925\" xlink:href=\"#me3de2e8481\" y=\"56.645639\"/>\r\n      </g>\r\n     </g>\r\n     <g id=\"text_11\">\r\n      <!-- 18 -->\r\n      <g transform=\"translate(7.2 60.444857)scale(0.1 -0.1)\">\r\n       <use xlink:href=\"#DejaVuSans-49\"/>\r\n       <use x=\"63.623047\" xlink:href=\"#DejaVuSans-56\"/>\r\n      </g>\r\n     </g>\r\n    </g>\r\n    <g id=\"ytick_6\">\r\n     <g id=\"line2d_12\">\r\n      <g>\r\n       <use style=\"stroke:#000000;stroke-width:0.8;\" x=\"26.925\" xlink:href=\"#me3de2e8481\" y=\"17.074835\"/>\r\n      </g>\r\n     </g>\r\n     <g id=\"text_12\">\r\n      <!-- 20 -->\r\n      <g transform=\"translate(7.2 20.874054)scale(0.1 -0.1)\">\r\n       <use xlink:href=\"#DejaVuSans-50\"/>\r\n       <use x=\"63.623047\" xlink:href=\"#DejaVuSans-48\"/>\r\n      </g>\r\n     </g>\r\n    </g>\r\n   </g>\r\n   <g id=\"line2d_13\">\r\n    <path clip-path=\"url(#pfd25196878)\" d=\"M 42.143182 117.421817 \r\nL 45.217562 133.125292 \r\nL 48.291942 92.056492 \r\nL 51.366322 164.762774 \r\nL 54.440702 145.68448 \r\nL 57.515083 41.915409 \r\nL 60.589463 210.244459 \r\nL 63.663843 93.732556 \r\nL 66.738223 111.07852 \r\nL 69.812603 212.527946 \r\nL 72.886983 139.718701 \r\nL 75.961364 93.762525 \r\nL 79.035744 157.457669 \r\nL 82.110124 139.090438 \r\nL 85.184504 40.891411 \r\nL 88.258884 67.445901 \r\nL 91.333264 92.84546 \r\nL 94.407645 95.7185 \r\nL 97.482025 70.395489 \r\nL 100.556405 21.126152 \r\nL 103.630785 84.341762 \r\nL 106.705165 170.318118 \r\nL 109.779545 189.272526 \r\nL 112.853926 38.381645 \r\nL 115.928306 72.098907 \r\nL 119.002686 92.30333 \r\nL 122.077066 186.16909 \r\nL 125.151446 83.728786 \r\nL 128.225826 43.395153 \r\nL 131.300207 163.232197 \r\nL 134.374587 68.184349 \r\nL 137.448967 172.946642 \r\nL 140.523347 144.388295 \r\nL 143.597727 70.037452 \r\nL 146.672107 152.745792 \r\nL 149.746488 142.992762 \r\nL 152.820868 213.482023 \r\nL 155.895248 66.925379 \r\nL 158.969628 186.772191 \r\nL 162.044008 46.277835 \r\nL 165.118388 187.190511 \r\nL 168.192769 78.926882 \r\nL 171.267149 28.583294 \r\nL 174.341529 80.884852 \r\nL 177.415909 17.083636 \r\nL 180.490289 204.559981 \r\nL 183.564669 92.508625 \r\nL 186.63905 157.971543 \r\nL 189.71343 33.252876 \r\nL 192.78781 139.040651 \r\nL 195.86219 205.830636 \r\nL 198.93657 120.045255 \r\nL 202.01095 191.743227 \r\nL 205.085331 85.197718 \r\nL 208.159711 33.246876 \r\nL 211.234091 89.648156 \r\nL 214.308471 123.529548 \r\nL 217.382851 182.818342 \r\nL 220.457231 54.30014 \r\nL 223.531612 136.445061 \r\nL 226.605992 98.566011 \r\nL 229.680372 207.629378 \r\nL 232.754752 178.700783 \r\nL 235.829132 27.487463 \r\nL 238.903512 180.405998 \r\nL 241.977893 59.187646 \r\nL 245.052273 82.553581 \r\nL 248.126653 68.772672 \r\nL 251.201033 112.001057 \r\nL 254.275413 116.042372 \r\nL 257.349793 78.209784 \r\nL 260.424174 90.208679 \r\nL 263.498554 60.697246 \r\nL 266.572934 140.129043 \r\nL 269.647314 61.08907 \r\nL 272.721694 205.563964 \r\nL 275.796074 135.181849 \r\nL 278.870455 65.909329 \r\nL 281.944835 143.419917 \r\nL 285.019215 60.176469 \r\nL 288.093595 85.327044 \r\nL 291.167975 210.806987 \r\nL 294.242355 103.315822 \r\nL 297.316736 148.593555 \r\nL 300.391116 93.508127 \r\nL 303.465496 173.51433 \r\nL 306.539876 104.870441 \r\nL 309.614256 179.702168 \r\nL 312.688636 27.105958 \r\nL 315.763017 158.19116 \r\nL 318.837397 176.537593 \r\nL 321.911777 161.015949 \r\nL 324.986157 189.280701 \r\nL 328.060537 65.503818 \r\nL 331.134917 192.443582 \r\nL 334.209298 60.625623 \r\nL 337.283678 214.756364 \r\nL 340.358058 116.271688 \r\nL 343.432438 160.95876 \r\nL 346.506818 109.346199 \r\n\" style=\"fill:none;stroke:#1f77b4;stroke-linecap:square;stroke-width:1.5;\"/>\r\n   </g>\r\n   <g id=\"patch_3\">\r\n    <path d=\"M 26.925 224.64 \r\nL 26.925 7.2 \r\n\" style=\"fill:none;stroke:#000000;stroke-linecap:square;stroke-linejoin:miter;stroke-width:0.8;\"/>\r\n   </g>\r\n   <g id=\"patch_4\">\r\n    <path d=\"M 361.725 224.64 \r\nL 361.725 7.2 \r\n\" style=\"fill:none;stroke:#000000;stroke-linecap:square;stroke-linejoin:miter;stroke-width:0.8;\"/>\r\n   </g>\r\n   <g id=\"patch_5\">\r\n    <path d=\"M 26.925 224.64 \r\nL 361.725 224.64 \r\n\" style=\"fill:none;stroke:#000000;stroke-linecap:square;stroke-linejoin:miter;stroke-width:0.8;\"/>\r\n   </g>\r\n   <g id=\"patch_6\">\r\n    <path d=\"M 26.925 7.2 \r\nL 361.725 7.2 \r\n\" style=\"fill:none;stroke:#000000;stroke-linecap:square;stroke-linejoin:miter;stroke-width:0.8;\"/>\r\n   </g>\r\n  </g>\r\n </g>\r\n <defs>\r\n  <clipPath id=\"pfd25196878\">\r\n   <rect height=\"217.44\" width=\"334.8\" x=\"26.925\" y=\"7.2\"/>\r\n  </clipPath>\r\n </defs>\r\n</svg>\r\n",
      "image/png": "[encoded data removed]"
     },
     "metadata": {
      "needs_background": "light"
     }
    }
   ],
   "source": [
    "w = 10 # 2/2*0.1 J0/NP\n",
    "duration = 10\n",
    "time_series = np.arange(0, duration, dt)\n",
    "# TODO: will config best looking stabe I\n",
    "I = (np.ones_like(time_series)+np.random.random(time_series.shape)) * 10\n",
    "plt.plot(I)\n",
    "for current in I:\n",
    "    print('PRE ', pre.integrate(current)[1])\n",
    "    print('POST', post.integrate(current)[1])\n"
   ]
  }
 ],
 "metadata": {
  "kernelspec": {
   "display_name": "Python 3.8.0 32-bit",
   "language": "python",
   "name": "python38032bite0b02853a2ad41f4a1ecee9c0ca2c2a6"
  },
  "language_info": {
   "codemirror_mode": {
    "name": "ipython",
    "version": 3
   },
   "file_extension": ".py",
   "mimetype": "text/x-python",
   "name": "python",
   "nbconvert_exporter": "python",
   "pygments_lexer": "ipython3",
   "version": "3.8.0-final"
  }
 },
 "nbformat": 4,
 "nbformat_minor": 2
}