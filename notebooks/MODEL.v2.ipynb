{
 "cells": [
  {
   "cell_type": "code",
   "execution_count": 53,
   "metadata": {},
   "outputs": [],
   "source": [
    "import numpy as np\n",
    "import matplotlib.pyplot as plt\n",
    "import random\n",
    "import math\n",
    "from collections import namedtuple"
   ]
  },
  {
   "cell_type": "markdown",
   "metadata": {},
   "source": [
    "# $\\Delta t$"
   ]
  },
  {
   "cell_type": "code",
   "execution_count": null,
   "metadata": {},
   "outputs": [],
   "source": [
    "duration = 10\n",
    "delta_t = 0.1\n",
    "time_series = np.arange(0, duration, delta_t)\n",
    "# neuron.active(t_index) = neuron.u.update(neuron[t_index -1], config)\n",
    "I = np.random.random(time_series.shape) * (3.5 - 3) + 3"
   ]
  },
  {
   "cell_type": "markdown",
   "metadata": {},
   "source": [
    "### problems\n",
    "- [ ] Connect for Multi pops\n",
    "- [ ] Reseting neurons\n",
    "\n",
    "### FX\n",
    "- [ ] U update in itegration (Series)\n",
    "- [ ] update connection for input connection for next layer neurons\n",
    "\n"
   ]
  },
  {
   "cell_type": "markdown",
   "metadata": {},
   "source": [
    "# Models/LIF\n",
    "\n",
    "- [ ] API\n",
    "- [ ] parameters importance \n",
    "- [ ] How it works simple-introductions"
   ]
  },
  {
   "cell_type": "code",
   "execution_count": null,
   "metadata": {},
   "outputs": [],
   "source": [
    "class LIF:\n",
    "    __slots__ = ['dt__τ', 'θ', 'R', 'u_rest', 'u', 'input',  'spike_trace', 'isi', 'posts', 'input']\n",
    " \n",
    "    def __init__(self, config: namedtuple):\n",
    "        self.θ = config.threshold\n",
    "        self.R = config.resistor\n",
    "        self.u_rest = config.uRest\n",
    "        self.dt = config.dt \n",
    "        self.τ = config.tau\n",
    "        self.isi = int(config.isInhibitory)\n",
    "        self.u = self.u_rest\n",
    "        self.input = {}\n",
    "        self.spike_trace = []\n",
    "        self.posts = []\n",
    "        \n",
    "    def integrate(self, I, t):\n",
    "        \"\"\" \n",
    "        integrate(currentValue, currentTime)\n",
    "        return one if neuron spikes in currentTime otherwise it will return zero\n",
    "        \"\"\"\n",
    "        \n",
    "        # compute potential\n",
    "        self.u += (self.u_rest - self.u + self.R * I) * (self.dt / self.τ)\n",
    "        # Add presynaptic input\n",
    "        self.u += self.input.get(t, 0) * self.R * (self.dt / self.τ)\n",
    "        #  compute spikes\n",
    "        if self.u >= self.θ:\n",
    "            self.u = self.u_rest\n",
    "            self.spike_trace.append(t)\n",
    "            # update entry input for post synaptic neurons\n",
    "            for synapse in self.posts:\n",
    "                fs_time = t + (1//self.dt*self.dt) + self.dt  # future spikes time\n",
    "                if fs_time no in synpse.neuron.input:\n",
    "                        synapse.neuron.input[fs_time] = 0\n",
    "                synapse.neuron.input[fs_time] += pow(-1,self.isi) * synapse.w\n",
    "        \n",
    "        return int(t in self.spike_trace[-1:]) # if neuron has just spiked in time t return 1 otherwise 0    \n",
    "    \n",
    "    def reset(self, t, alpha):\n",
    "        # reset inputs\n",
    "        if self.input.get(t, 0) == 0:\n",
    "            return\n",
    "        value = self.input.pop(t)\n",
    "        # search for next 6 feasable seconds delayed\n",
    "        for sec in range(1, 6):\n",
    "            fs_time = t + (sec//self.dt*self.dt) \n",
    "            if fs_time in self.input:\n",
    "                self.input[fs_time] += value * alpha"
   ]
  },
  {
   "cell_type": "markdown",
   "metadata": {},
   "source": [
    "as Eq. (12.4) says I(t) is independent of the neuronal index i.\n",
    "\n",
    "$I(t) = w_0 N \\int_0^∞ α(s)A(t −s)ds + I_{ext}(t)$"
   ]
  },
  {
   "cell_type": "code",
   "execution_count": 163,
   "metadata": {},
   "outputs": [],
   "source": [
    "class Neuron:\n",
    "    \"\"\" LIF Neuron \"\"\"\n",
    "    __slots__ = ['dt', 'τ', 'θ', 'R', 'u_rest', 'u', 'Ii', 'isi']\n",
    "    \n",
    "    def __init__(self, config: namedtuple):\n",
    "        \"\"\" Initialize Configs \"\"\"\n",
    "        self.θ      = config.threshold\n",
    "        self.R      = config.resistor\n",
    "        self.u_rest = config.uRest\n",
    "        self.τ      = config.tau\n",
    "        self.dt     = config.dt\n",
    "        self.isi    = int(config.isInhibitory)\n",
    "        self.u      = self.u_rest - 0.1 # this prevent extra count for first spikes count \n",
    "        self.Ii    = 0 # internal I value (gained by Hebbian Rules)  \n",
    "        # self.spike_trace = []\n",
    "        # self.posts = []\n",
    "\n",
    "    def integrate(self, Iext):\n",
    "        \"\"\"\n",
    "            Go ahead one step in time windows and  update potential\n",
    "            Iext := I_ext(t) can be constant or Gaussian uniform number\n",
    "            I = Iext + generic_timecourse\n",
    "        \"\"\"\n",
    "        spiked = False\n",
    "\n",
    "        self.u += (self.u_rest - self.u + self.R * (Iext + self.Ii)) * (self.dt / self.τ)\n",
    "        # Reseting on exciding θ threshhold  \n",
    "        if(self.u >= self.θ):\n",
    "            self.u = self.u_rest\n",
    "            spiked = True\n",
    "\n",
    "        return (self.u, spiked)\n",
    "    \n",
    "    # update Ii\n",
    "    # Handle for synapse in self.posts:\n",
    "    #     synapse.neuron.input += pow(-1,self.isi) * synapse.w * (self.θ - self.u_rest)\n",
    "        "
   ]
  },
  {
   "cell_type": "code",
   "execution_count": 194,
   "metadata": {},
   "outputs": [
    {
     "output_type": "error",
     "ename": "SyntaxError",
     "evalue": "invalid syntax (<ipython-input-194-adab6a33fdf4>, line 17)",
     "traceback": [
      "\u001b[1;36m  File \u001b[1;32m\"<ipython-input-194-adab6a33fdf4>\"\u001b[1;36m, line \u001b[1;32m17\u001b[0m\n\u001b[1;33m    'fixedCP': Connection.fixed_coupling_probability_connectivity,\u001b[0m\n\u001b[1;37m             ^\u001b[0m\n\u001b[1;31mSyntaxError\u001b[0m\u001b[1;31m:\u001b[0m invalid syntax\n"
     ]
    }
   ],
   "source": [
    "class Connection:\n",
    "    \"\"\" Connect population A to population B with connection_type strategy\n",
    "valid connection_types\n",
    "    'full' for  full_connectivity,\n",
    "    'fixedCP' for fixed_coupling_probability_connectivity,\n",
    "    'fixedNPP' for fixed_number_of_presynaptics_parents,\n",
    "\n",
    "For illiminate performance issue it doesn't connect neurons until calling @method for comp\n",
    "\"\"\"\n",
    "    def __init__(self, A, B, connection_type, **configs):\n",
    "        \"\"\" connect A population to B population with input connection_type \"\"\"\n",
    "        self.pre = A.neurons\n",
    "        self.post = B.neurons\n",
    "        self.relations = []\n",
    "        connect = {\n",
    "            'full', Connection.full_connectivity,\n",
    "            'fixedCP': Connection.fixed_coupling_probability_connectivity,\n",
    "            'fixedNPP': Connection.fixed_number_of_presynaptics_parents,\n",
    "        }.get(connection_type, fixedCP)\n",
    "\n",
    "        connect(self.pre, self.post, **configs)\n",
    "\n",
    "    @staticmethod\n",
    "    def full_connectivity(A, B, p=0.1, J0=10, r0=1): \n",
    "        C = p * len(A) # p * N\n",
    "        μ, σ = J0/C, r0/math.sqrt(C)\n",
    "        normal = np.random.normal\n",
    "\n",
    "        for pre in A:\n",
    "            for post in B:\n",
    "                relations.append([pre, post, normal(μ, σ)])\n",
    "    \n",
    "    @staticmethod\n",
    "    def fixed_coupling_probability_connectivity(A, B, p=0.1, J0=10, r0=1): \n",
    "        \"\"\" p := coupling_probability \"\"\"\n",
    "        CA_size = int(p * len(A))\n",
    "        CB_size = int(p * len(B))\n",
    "        μ, σ = J0/CB_size, r0/math.sqrt(CB_size)\n",
    "        normal = np.random.normal\n",
    "\n",
    "        for pre in np.random.choice(A, CA_size, replace=False):\n",
    "            for post in np.random.choice(B, CB_size, replace=False)\n",
    "                relations.append([pre, post, normal(μ, σ)])\n",
    "\n",
    "    \n",
    "    @staticmethod\n",
    "    def fixed_number_of_presynaptics_parents(A, B, p=0.1, J0=10, r0=1): \n",
    "        C = int(p * len(A))\n",
    "        μ, σ = J0/C, r0/math.sqrt(C)\n",
    "        normal = np.random.normal\n",
    "        \n",
    "        for post in B:\n",
    "            for pre in np.random.choice(A, C, replace=False):\n",
    "                relations.append([pre, post, normal(μ, σ)])\n",
    "\n",
    "    def update():\n",
    "        \"\"\" \n",
    "            For every post of spiked neuron you should update Ii \n",
    "            For stdp learning it should update Ws\n",
    "        \"\"\"\n",
    "        pass"
   ]
  },
  {
   "cell_type": "code",
   "execution_count": null,
   "metadata": {},
   "outputs": [],
   "source": [
    "time_series = np.ones((35, 4))"
   ]
  },
  {
   "cell_type": "code",
   "execution_count": null,
   "metadata": {},
   "outputs": [],
   "source": [
    "def get_homogenous_group():\n",
    "    pass"
   ]
  },
  {
   "cell_type": "code",
   "execution_count": null,
   "metadata": {},
   "outputs": [],
   "source": [
    "class Learning:\n",
    "    @staticmethod\n",
    "    def stdp(w, t_pre, t_post, **config):\n",
    "        # deafult values\n",
    "        A__    = config.get('A__', lambda x: 10)\n",
    "        A_     = config.get('A_', lambda x: -10)\n",
    "        tau__  = config.get('tau__', 5)\n",
    "        tau_   = config.get('tau_', 5)\n",
    "        \n",
    "        Δt =  t_post - t_pre\n",
    "        if (Δt >= 0):\n",
    "            Δw =  A__(w) * np.exp(-abs(Δt) / tau__)    \n",
    "        else:\n",
    "            Δw =  A_(w) * np.exp(-abs(Δt) / tau_)\n",
    "        return Δw, Δt "
   ]
  },
  {
   "cell_type": "code",
   "execution_count": 135,
   "metadata": {},
   "outputs": [],
   "source": [
    "class Configuration:\n",
    "    lif = namedtuple('LIFConfig', 'tau resistor threshold uRest dt isInhibitory')\n",
    "    # μ = 0\n",
    "    # σ = 1\n",
    "\n",
    "    @classmethod\n",
    "    def lif_config_generator(cls, dt, isInhibitory):\n",
    "        \n",
    "        return lambda _: cls.lif(**{\n",
    "            # fixed for all neurons\n",
    "            \"tau\" :5, \n",
    "            \"resistor\": 5,\n",
    "            \"threshold\": -65,\n",
    "            \"uRest\": -70,\n",
    "            \"dt\": dt, \n",
    "            \"isInhibitory\": isInhibitory, \n",
    "        })"
   ]
  },
  {
   "cell_type": "code",
   "execution_count": 178,
   "metadata": {},
   "outputs": [],
   "source": [
    "class Population:\n",
    "    \"\"\" Gonna Handle homogenous population \"\"\"\n",
    "    def __init__(self, neuron, config_generator ,**configs):\n",
    "        dt = configs.get('time_step', 0.1) \n",
    "        duration = configs.get('duration', 5)        \n",
    "        self.time_series = np.arange(0,duration,dt)\n",
    "        self.size = configs.get('size', 1000)\n",
    "\n",
    "        self.potentials_series = np.empty((self.size, self.time_series.size))\n",
    "        \n",
    "        # Neurons (homogenous)\n",
    "        self.neurons = [\n",
    "            neuron(config_generator(i)) for i in range(self.size)\n",
    "        ]\n",
    "\n",
    "    def yeChizi(self):\n",
    "        pass\n",
    "    \n",
    "    def activate(self, t):\n",
    "        \"\"\" Activate a population \"\"\"\n",
    "        assert 0 <= t < self.time_series.size, 'Please Enter an integer belongs to [0, duration/dt) range as an index.'\n",
    "        # TODO: need I_ext calculation from static fixed I ~ N(μ, σ), or separated for each individual\n",
    "        I_ext = 35\n",
    "        potentials = np.fromiter(\n",
    "            (n.integrate(I_ext) for (index, n) in enumerate(self.neurons)),\n",
    "            np.dtype([('u', 'f'), ('spiked','?')])\n",
    "        )\n",
    "        self.potentials_series[:, t] = potentials['u']\n",
    "        # update interanl I for neurons has spiked in very last time potentials['spiked']\n",
    "        return potentials"
   ]
  },
  {
   "cell_type": "code",
   "execution_count": 179,
   "metadata": {},
   "outputs": [],
   "source": [
    "cgen = Configuration.lif_config_generator(0.1, False)\n",
    "pop = Population(Neuron, cgen, size=10)\n"
   ]
  },
  {
   "cell_type": "code",
   "execution_count": 180,
   "metadata": {},
   "outputs": [],
   "source": [
    "p0 = pop.activate(0)"
   ]
  },
  {
   "cell_type": "code",
   "execution_count": 182,
   "metadata": {},
   "outputs": [
    {
     "output_type": "execute_result",
     "data": {
      "text/plain": "array([False, False, False, False, False, False, False, False, False,\n       False])"
     },
     "metadata": {},
     "execution_count": 182
    }
   ],
   "source": [
    "p0['spiked']"
   ]
  },
  {
   "cell_type": "code",
   "execution_count": 186,
   "metadata": {},
   "outputs": [],
   "source": [
    "p1= pop.activate(1)"
   ]
  },
  {
   "cell_type": "code",
   "execution_count": 188,
   "metadata": {},
   "outputs": [
    {
     "output_type": "execute_result",
     "data": {
      "text/plain": "array([-70., -70., -70., -70., -70., -70., -70., -70., -70., -70.])"
     },
     "metadata": {},
     "execution_count": 188
    }
   ],
   "source": [
    "pop.potentials_series[:, 1]"
   ]
  },
  {
   "cell_type": "code",
   "execution_count": 191,
   "metadata": {},
   "outputs": [],
   "source": [
    "class A:\n",
    "    def __init__(self, a):\n",
    "        A.f(a)\n",
    "\n",
    "    @staticmethod\n",
    "    def f(a):\n",
    "        print(a)"
   ]
  },
  {
   "cell_type": "code",
   "execution_count": 192,
   "metadata": {},
   "outputs": [
    {
     "output_type": "stream",
     "name": "stdout",
     "text": "5\n"
    },
    {
     "output_type": "execute_result",
     "data": {
      "text/plain": "<__main__.A at 0x101340a0>"
     },
     "metadata": {},
     "execution_count": 192
    }
   ],
   "source": [
    "A(5)"
   ]
  },
  {
   "cell_type": "code",
   "execution_count": 193,
   "metadata": {},
   "outputs": [
    {
     "output_type": "error",
     "ename": "NameError",
     "evalue": "name 'sqrt' is not defined",
     "traceback": [
      "\u001b[1;31m---------------------------------------------------------------------------\u001b[0m",
      "\u001b[1;31mNameError\u001b[0m                                 Traceback (most recent call last)",
      "\u001b[1;32m<ipython-input-193-840f67a85afc>\u001b[0m in \u001b[0;36m<module>\u001b[1;34m\u001b[0m\n\u001b[1;32m----> 1\u001b[1;33m \u001b[0msqrt\u001b[0m\u001b[1;33m(\u001b[0m\u001b[1;36m9\u001b[0m\u001b[1;33m)\u001b[0m\u001b[1;33m\u001b[0m\u001b[1;33m\u001b[0m\u001b[0m\n\u001b[0m",
      "\u001b[1;31mNameError\u001b[0m: name 'sqrt' is not defined"
     ]
    }
   ],
   "source": [
    "sqrt(9)"
   ]
  },
  {
   "cell_type": "code",
   "execution_count": null,
   "metadata": {},
   "outputs": [],
   "source": []
  }
 ],
 "metadata": {
  "kernelspec": {
   "display_name": "Python 3.8.0 32-bit",
   "language": "python",
   "name": "python38032bite0b02853a2ad41f4a1ecee9c0ca2c2a6"
  },
  "language_info": {
   "codemirror_mode": {
    "name": "ipython",
    "version": 3
   },
   "file_extension": ".py",
   "mimetype": "text/x-python",
   "name": "python",
   "nbconvert_exporter": "python",
   "pygments_lexer": "ipython3",
   "version": "3.8.0-final"
  }
 },
 "nbformat": 4,
 "nbformat_minor": 2
}