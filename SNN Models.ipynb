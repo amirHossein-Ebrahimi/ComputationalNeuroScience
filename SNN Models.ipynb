{
 "cells": [
  {
   "cell_type": "markdown",
   "metadata": {},
   "source": [
    "##### Set up the environment"
   ]
  },
  {
   "cell_type": "code",
   "execution_count": null,
   "metadata": {},
   "outputs": [],
   "source": [
    "import matplotlib.pyplot as plt\n",
    "import numpy as np\n",
    "import random\n",
    "import math\n",
    "%matplotlib inline"
   ]
  },
  {
   "cell_type": "markdown",
   "metadata": {},
   "source": [
    "# Models\n",
    "#### updateing\n",
    "$du = \\frac{(-\\Delta u + R.I_t)}{\\tau}dt$, $u_{new} = u +  du $\n",
    "\n",
    "#### Threshhold\n",
    "$ u(t) = \\theta \\implies \\text{Fire + Rest } (u = u_{rest}) $"
   ]
  },
  {
   "cell_type": "markdown",
   "metadata": {},
   "source": [
    "## Leaky Integrate & Fire Model\n",
    "#### formulate\n",
    "$\\tau.\\frac{du}{dt} = -(u - u_{rest}) + R.I(t)$, $\\Delta u = u - u_{rest}$ ,$I_t = I(t)$"
   ]
  },
  {
   "cell_type": "code",
   "execution_count": null,
   "metadata": {},
   "outputs": [],
   "source": [
    "class LIF:\n",
    "    def __init__(self, config: namedtuple):\n",
    "        self.τ = config.tau\n",
    "        self.θ = config.threshold\n",
    "        self.R = config.resistor\n",
    "        self.u_rest = config.uRest\n",
    "        self.dt = config.dt\n",
    "        \n",
    "        self.u = self.u_rest\n",
    "        self.spike_trace = []\n",
    "        \n",
    "    def integrate(self, It, t):\n",
    "        self.u += self.update(It)\n",
    "        if self.u >= self.θ:\n",
    "            self.u = self.u_rest\n",
    "            self.spike_trace.append(t)\n",
    "        return self.u\n",
    "        \n",
    "    def update(self, It):\n",
    "        return self.right_hand_side(It) * (self.dt / self.τ) \n",
    "    \n",
    "    def right_hand_side(self, It):\n",
    "        return -(self.u - self.u_rest) + self.R * It\n",
    "    \n",
    " "
   ]
  },
  {
   "cell_type": "markdown",
   "metadata": {},
   "source": [
    "## Exponential Leaky Integrate & Fire Model\n",
    "#### formulate\n",
    "$\\tau.\\frac{du}{dt} = -(u - u_{rest}) + R.I(t) + \\Delta_{T}exp(\\frac{u - \\theta_{rh}}{\\Delta_{T}})$\n",
    "\n",
    "$\\Delta_{T}$ is the sharpness parameter.\n",
    "\n",
    "$\\theta_{rh}$ is the firing threshold."
   ]
  },
  {
   "cell_type": "code",
   "execution_count": null,
   "metadata": {},
   "outputs": [],
   "source": [
    "class ELIF:\n",
    "    def __init__(self, config: namedtuple):\n",
    "        self.τ = config.tau\n",
    "        self.θ = config.threshold\n",
    "        self.R = config.resistor\n",
    "        self.u_rest = config.uRest\n",
    "        self.dt = config.dt\n",
    "        self.ΔT = config.DeltaT\n",
    "        \n",
    "        self.u = self.u_rest\n",
    "        self.spike_trace = []\n",
    "        \n",
    "    def integrate(self, It, t):\n",
    "        self.u += self.update(It)\n",
    "        if self.u >= self.θ:\n",
    "            self.u = self.u_rest\n",
    "            self.spike_trace.append(t)\n",
    "        return self.u\n",
    "        \n",
    "    def update(self, It):\n",
    "        return self.right_hand_side(It) * (self.dt / self.τ) \n",
    "    \n",
    "    def right_hand_side(self, It):\n",
    "        return -(self.u - self.u_rest) + self.R * It + self.ΔT * math.exp((self.u - self.θ)/self.ΔT)\n"
   ]
  },
  {
   "cell_type": "markdown",
   "metadata": {},
   "source": [
    "## Addaptive Exponential Leaky Integrate & Fire Model\n",
    "#### formulate\n",
    "$\\tau.\\frac{du}{dt} = -(u - u_{rest}) + R.I(t) + \\Delta_{T}exp(\\frac{u - \\theta_{rh}}{\\Delta_{T}}) - Rw$\n",
    "\n",
    "$\\tau.\\frac{dw}{dt} = a(u - u_{rest}) - w + b \\tau_w \\sum\\limits_{t^f}\\sigma(t - t^f)$\n",
    "\n",
    "- At each threshold crossing, the adaptation variable w is increased by an amount b\n",
    "- Adaptation is characterized by two parameters:\n",
    "    - the parameter a is the source of subthreshold adaptation, because it couples adaptation to the voltage\n",
    "    - spike-triggered adaptation is controlled by a combination of a and b."
   ]
  },
  {
   "cell_type": "code",
   "execution_count": null,
   "metadata": {},
   "outputs": [],
   "source": [
    "class AELIF:\n",
    "    def __init__(self, config: namedtuple):\n",
    "        self.τm = config.tauM\n",
    "        self.θ = config.threshold\n",
    "        self.R = config.resistor\n",
    "        self.u_rest = config.uRest\n",
    "        self.dt = config.dt\n",
    "        self.ΔT = config.DeltaT\n",
    "        self.a = config.a\n",
    "        self.b = config.b\n",
    "        self.w = config.w\n",
    "        self.τw = config.tauW\n",
    "        \n",
    "        self.u = self.u_rest\n",
    "        self.spike_trace = []\n",
    "        \n",
    "    def integrate(self, It, t):\n",
    "        self.u += self.update(It)\n",
    "        self.w += self.update_w(t)\n",
    "        \n",
    "        if self.u >= self.θ:\n",
    "            self.u = self.u_rest\n",
    "            self.spike_trace.append(t)\n",
    "        return self.u\n",
    "        \n",
    "    def update(self, It):\n",
    "        return self.right_hand_side(It) * (self.dt / self.τm) \n",
    "    \n",
    "    def update_w(self, t):\n",
    "        return self.a * (self.u - self.u_rest) - self.w + self.b * self.τw * self.spike_trace.count(t)\n",
    "    \n",
    "    def right_hand_side(self, It):\n",
    "        return -(self.u - self.u_rest) + self.R * (It - self.w) + self.ΔT * math.exp((self.u - self.θ) / self.ΔT)\n",
    "                                                                          "
   ]
  },
  {
   "cell_type": "markdown",
   "metadata": {},
   "source": [
    "### Configs\n",
    "\n",
    "```python\n",
    "params_creator.get('LIF')  = namedtuple('LIFParams', 'dt resistor tau threshold uRest')\n",
    "params_creator.get('ELIF') = namedtuple('ELIFParams', 'DeltaT dt resistor tau threshold uRest'),\n",
    "params_creator.get('AELIF') = namedtuple('AdaptiveELIFParams', 'DeltaT a b dt resistor tauM tauW threshold uRest w'),\n",
    "params_creator.get('Env') = namedtuple('Enviroment', 'current_variation currents_params time_window')\n",
    "```"
   ]
  },
  {
   "cell_type": "code",
   "execution_count": null,
   "metadata": {},
   "outputs": [],
   "source": [
    "params_creator = {\n",
    "    'LIF': namedtuple('LIFParams', 'dt resistor tau threshold uRest'),\n",
    "    'ELIF': namedtuple('ELIFParams', 'DeltaT dt resistor tau threshold uRest'),\n",
    "    'AELIF': namedtuple('AdaptiveELIFParams', 'DeltaT a b dt resistor tauM tauW threshold uRest w'),\n",
    "    'Env': namedtuple('Enviroment', 'current_variation currents_params time_window')\n",
    "}"
   ]
  },
  {
   "cell_type": "markdown",
   "metadata": {},
   "source": [
    "### Plotters"
   ]
  },
  {
   "cell_type": "code",
   "execution_count": null,
   "metadata": {},
   "outputs": [],
   "source": [
    "def plot_fi_curve(spike_trace, time_window, currents):\n",
    "    frequencies = [len(spikes) / time_window for spikes in spike_trace]\n",
    "    plt.plot(currents, frequencies, 'r')\n",
    "    plt.xlabel(xlabel='I(t)')\n",
    "    plt.ylabel(ylabel='f = 1/T')\n",
    "    plt.title(\"frequency-current relation\")\n",
    "    plt.show()"
   ]
  },
  {
   "cell_type": "code",
   "execution_count": null,
   "metadata": {},
   "outputs": [],
   "source": [
    "def plot_firing_pattern(plotter, params):\n",
    "    fig, axs = plt.subplots(2)\n",
    "    axs[0].plot(plotter['times'], plotter['potentials'], 'g-')\n",
    "    axs[0].plot(plotter['times'], [params.uRest] * len(plotter['times']), 'k--')\n",
    "    axs[0].plot(plotter['times'], [params.threshold] * len(plotter['times']), 'b--')\n",
    "    axs[0].set(xlabel='time', ylabel='u (t)')\n",
    "\n",
    "    axs[1].plot(plotter['times'], plotter['currents'], 'b-')\n",
    "    axs[1].set(xlabel='time', ylabel='I (t)')\n",
    "    for ax in axs.flat:\n",
    "        ax.label_outer()\n",
    "    plt.show()"
   ]
  },
  {
   "cell_type": "markdown",
   "metadata": {},
   "source": [
    "### Constant Current"
   ]
  },
  {
   "cell_type": "code",
   "execution_count": null,
   "metadata": {},
   "outputs": [],
   "source": [
    "class CurrentManager:\n",
    "    def __init__(self, start, stop, step):\n",
    "        self.arrange_params = (start, stop, step)\n",
    "        self.currents = None\n",
    "    def __enter__(self):\n",
    "        self.currents = np.arange(*self.arrange_params)\n",
    "        return self.currents\n",
    "    def __exit__(self, type, value, traceback):\n",
    "        del self.currents"
   ]
  },
  {
   "cell_type": "code",
   "execution_count": null,
   "metadata": {
    "scrolled": true
   },
   "outputs": [],
   "source": [
    "def constant_current(Model, model_params, env):\n",
    "    with CurrentManager(*env.currents_params) as currents:\n",
    "            spike_trace = []\n",
    "            for current in currents:\n",
    "                plotter = { \"potentials\": [], \"currents\": [], \"times\": [] } \n",
    "                model = Model(model_params) # Model\n",
    "                # time sequences\n",
    "                starting_t = 0\n",
    "                time_intervals = np.arange(starting_t, starting_t + env.time_window, model_params.dt)\n",
    "                # integrations\n",
    "                for t in time_intervals:\n",
    "                    u = model.integrate(current, t)\n",
    "                    plotter['potentials'].append(u)\n",
    "                    plotter['currents'].append(current)                \n",
    "                    plotter['times'].append(t)\n",
    "                spike_trace.append(model.spike_trace)\n",
    "                # Firing pattern\n",
    "                plot_firing_pattern(plotter, model_params)\n",
    "            plot_fi_curve(spike_trace, env.time_window, currents)"
   ]
  },
  {
   "cell_type": "code",
   "execution_count": null,
   "metadata": {},
   "outputs": [],
   "source": [
    "def noisy_current(Model, model_params, env):\n",
    "    with CurrentManager(*env.currents_params) as currents:\n",
    "            for current in currents:\n",
    "                plotter = { \"potentials\": [], \"currents\": [], \"times\": [] } \n",
    "                model = Model(model_params) # Model\n",
    "                # time sequences\n",
    "                starting_t = 0\n",
    "                time_intervals = np.arange(starting_t, starting_t + env.time_window, model_params.dt)\n",
    "                # integrations\n",
    "                for t in time_intervals:\n",
    "                    It = current + np.random.uniform(*env.current_variation)\n",
    "                    u = model.integrate(It, t)\n",
    "                    plotter['potentials'].append(u)\n",
    "                    plotter['currents'].append(It)                \n",
    "                    plotter['times'].append(t)\n",
    "                # Firing pattern\n",
    "                plot_firing_pattern(plotter, model_params)"
   ]
  },
  {
   "cell_type": "markdown",
   "metadata": {},
   "source": [
    "#### Enviroments Parameters\n",
    "current_variation = (lower, uperbound) for noise value \n",
    "\n",
    "currents_params = (start, stop, step)\n",
    "\n",
    "time_window = interval gap"
   ]
  },
  {
   "cell_type": "code",
   "execution_count": null,
   "metadata": {},
   "outputs": [],
   "source": [
    "# current_variation currents_params time_window\n",
    "env = params_creator.get('Env')((-1,1), (0, 50, 5), 10)"
   ]
  },
  {
   "cell_type": "markdown",
   "metadata": {},
   "source": [
    "#### Leaky Integrate & Fire Model Parameters"
   ]
  },
  {
   "cell_type": "code",
   "execution_count": null,
   "metadata": {},
   "outputs": [],
   "source": [
    "# 'dt resistor tau threshold uRest'\n",
    "lif_params = [\n",
    "    params_creator.get('LIF')(0.01, 10, 10, -50, -70),\n",
    "]"
   ]
  },
  {
   "cell_type": "code",
   "execution_count": null,
   "metadata": {},
   "outputs": [],
   "source": [
    "constant_current(LIF, lif_params[0], env)"
   ]
  },
  {
   "cell_type": "code",
   "execution_count": null,
   "metadata": {},
   "outputs": [],
   "source": [
    "noisy_current(LIF, lif_params[0])"
   ]
  },
  {
   "cell_type": "markdown",
   "metadata": {},
   "source": [
    "#### Exponential Leaky Integrate & Fire Model Parameters"
   ]
  },
  {
   "cell_type": "code",
   "execution_count": null,
   "metadata": {},
   "outputs": [],
   "source": [
    "# DeltaT dt resistor tau threshold uRest\n",
    "elif_params = [\n",
    "     params_creator.get('ELIF')(1, 0.01, 10, 10, -50, -70),\n",
    "]"
   ]
  },
  {
   "cell_type": "code",
   "execution_count": null,
   "metadata": {},
   "outputs": [],
   "source": [
    "constant_current(ELIF, elif_params[0])"
   ]
  },
  {
   "cell_type": "code",
   "execution_count": null,
   "metadata": {},
   "outputs": [],
   "source": [
    "noisy_current(ELIF, elif_params[0])"
   ]
  },
  {
   "cell_type": "markdown",
   "metadata": {},
   "source": [
    "#### Adaptive Exponential Leaky Integrate & Fire Model Parameters"
   ]
  },
  {
   "cell_type": "code",
   "execution_count": null,
   "metadata": {},
   "outputs": [],
   "source": [
    "# DeltaT a b dt resistor tauM tauW threshold uRest w\n",
    "aelif_params = [\n",
    "     params_creator.get('AELIF')(1, 5, 1, 0.01, 10, 10, 5, -50, -70, 2),\n",
    "]"
   ]
  },
  {
   "cell_type": "code",
   "execution_count": null,
   "metadata": {},
   "outputs": [],
   "source": [
    "constant_current(AELIF, aelif_params[0])"
   ]
  },
  {
   "cell_type": "code",
   "execution_count": null,
   "metadata": {},
   "outputs": [],
   "source": [
    "noisy_current(AELIF, aelif_params[0])"
   ]
  }
 ],
 "metadata": {
  "kernelspec": {
   "display_name": "Python 3",
   "language": "python",
   "name": "python3"
  },
  "language_info": {
   "codemirror_mode": {
    "name": "ipython",
    "version": 3
   },
   "file_extension": ".py",
   "mimetype": "text/x-python",
   "name": "python",
   "nbconvert_exporter": "python",
   "pygments_lexer": "ipython3",
   "version": "3.7.4"
  }
 },
 "nbformat": 4,
 "nbformat_minor": 2
}
